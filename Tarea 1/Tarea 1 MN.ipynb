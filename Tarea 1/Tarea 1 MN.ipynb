{
 "cells": [
  {
   "cell_type": "markdown",
   "id": "c669c936-bbde-4d74-836a-0d2678fcc5c3",
   "metadata": {},
   "source": [
    "# Tarea 1. Modelo de Negocios"
   ]
  },
  {
   "cell_type": "markdown",
   "id": "682c41cd-ca6b-4de8-8dc1-b44930cc1bc1",
   "metadata": {},
   "source": [
    "## Caso de Negocio en power BI.\n",
    "\n",
    "Una empresa de servicios financieros “X” sospecha de posible fraude entre sus agentes de ventas. Los clientes se mueven hacia la competencia y regresan a la empresa “X” cuantas veces lo deseen. Estos movimientos son influenciados completamente por los agentes de ventas. Cada vez que un cliente nuevo ingresa a la compañía “X” el agente de venta relacionado recibe una comisión. Del mismo modo ocurre cuando el cliente entra por segunda, tercera o n vez a la compañía “X”. La hipótesis de la empresa “X” es que los agentes están moviendo a los clientes con el único objetivo de ganar comisión en ciclos de entradas y salidas. El negocio quiere identificar los agentes que están cometiendo malas prácticas en función de ciertos criterios.  \n",
    "\n",
    "Con código python realizar el análisis para: Identificar los agentes que estan moviendo cliente de forma atípica (agentes que estan cometiendo fraude de movimiento de clientes entre otros competidores).  \n",
    "\n",
    "Considerar 3 movimientos para que sea anormal: in-out-in | out-in-out  \n",
    "\n",
    "Suponer que somos el competidor 10.  \n",
    "\n",
    "Definir tabla de pares únicos de agentes: Agente_1 | Agente_2 | Clientes_en_común  \n",
    "  \n",
    "\n",
    "**Descripción de los datos:**\n",
    "- DATE: Fecha\n",
    "- ClientID: cliente\n",
    "- MOVEMENT: movimiento entrada o salida\n",
    "- BALANCE_IN: monto invertido del cliente con el que llegó\n",
    "- TRANSFEROR: competidor donde se cambia el cliente\n",
    "- BALANCE_OUT: monto invertido del cliente con el que salió\n",
    "- RECEPIENT: competidor que recibe al cliente\n",
    "- AGENT_ID: identificador del agente\n",
    "- STATUS: si está activo\n",
    "- CHANNEL: medio por el cual se hace la comunicación del cambio SMS, Whatsapp, correo, llamada telefónica, correo\n",
    "- IN: entrada\n",
    "- OUT: salida"
   ]
  },
  {
   "cell_type": "code",
   "execution_count": 1,
   "id": "48bb458d-d9a9-4620-88c1-24a2db567330",
   "metadata": {},
   "outputs": [],
   "source": [
    "# Librerías\n",
    "\n",
    "import pandas as pd\n",
    "import numpy as np\n",
    "import networkx as nx\n"
   ]
  },
  {
   "cell_type": "code",
   "execution_count": 2,
   "id": "a57fd4de-243d-483a-a167-6c166bde9826",
   "metadata": {},
   "outputs": [],
   "source": [
    "# Cargar archivo\n",
    "\n",
    "file_path = 'ClientMovementsSN.csv'  \n",
    "\n",
    "df = pd.read_csv(file_path, sep = \";\", encoding = 'latin1')  \n"
   ]
  },
  {
   "cell_type": "code",
   "execution_count": 3,
   "id": "2ed09581-6817-48fa-9b76-4a2941bb26ba",
   "metadata": {},
   "outputs": [
    {
     "data": {
      "text/plain": [
       "(749202, 13)"
      ]
     },
     "execution_count": 3,
     "metadata": {},
     "output_type": "execute_result"
    }
   ],
   "source": [
    "df.shape"
   ]
  },
  {
   "cell_type": "code",
   "execution_count": 4,
   "id": "d7d5a5e9-3ed4-4580-a31e-0f603abcd2d2",
   "metadata": {},
   "outputs": [
    {
     "data": {
      "text/html": [
       "<div>\n",
       "<style scoped>\n",
       "    .dataframe tbody tr th:only-of-type {\n",
       "        vertical-align: middle;\n",
       "    }\n",
       "\n",
       "    .dataframe tbody tr th {\n",
       "        vertical-align: top;\n",
       "    }\n",
       "\n",
       "    .dataframe thead th {\n",
       "        text-align: right;\n",
       "    }\n",
       "</style>\n",
       "<table border=\"1\" class=\"dataframe\">\n",
       "  <thead>\n",
       "    <tr style=\"text-align: right;\">\n",
       "      <th></th>\n",
       "      <th>DATE</th>\n",
       "      <th>ClientID</th>\n",
       "      <th>MOVEMENT</th>\n",
       "      <th>BALANCE_IN</th>\n",
       "      <th>TRANSFEROR</th>\n",
       "      <th>BALANCE_OUT</th>\n",
       "      <th>RECEPIENT</th>\n",
       "      <th>AGENT.ID</th>\n",
       "      <th>STATUS</th>\n",
       "      <th>CHANNEL</th>\n",
       "      <th>aux</th>\n",
       "      <th>IN</th>\n",
       "      <th>OUT</th>\n",
       "    </tr>\n",
       "  </thead>\n",
       "  <tbody>\n",
       "    <tr>\n",
       "      <th>0</th>\n",
       "      <td>31/12/2018</td>\n",
       "      <td>1</td>\n",
       "      <td>in</td>\n",
       "      <td>25777382</td>\n",
       "      <td>Competitor 14</td>\n",
       "      <td>0</td>\n",
       "      <td>Competitor 9</td>\n",
       "      <td>24597</td>\n",
       "      <td>Active</td>\n",
       "      <td>CHANNEL 4</td>\n",
       "      <td>1</td>\n",
       "      <td>1</td>\n",
       "      <td>0</td>\n",
       "    </tr>\n",
       "    <tr>\n",
       "      <th>1</th>\n",
       "      <td>28/02/2018</td>\n",
       "      <td>2</td>\n",
       "      <td>out</td>\n",
       "      <td>0</td>\n",
       "      <td>Competitor 9</td>\n",
       "      <td>0</td>\n",
       "      <td>Competitor 10</td>\n",
       "      <td>13087</td>\n",
       "      <td>Active</td>\n",
       "      <td>CHANNEL 5</td>\n",
       "      <td>1</td>\n",
       "      <td>0</td>\n",
       "      <td>1</td>\n",
       "    </tr>\n",
       "    <tr>\n",
       "      <th>2</th>\n",
       "      <td>31/01/2017</td>\n",
       "      <td>3</td>\n",
       "      <td>out</td>\n",
       "      <td>0</td>\n",
       "      <td>Competitor 9</td>\n",
       "      <td>17552962</td>\n",
       "      <td>Competitor 10</td>\n",
       "      <td>18024</td>\n",
       "      <td>Active</td>\n",
       "      <td>CHANNEL 5</td>\n",
       "      <td>1</td>\n",
       "      <td>0</td>\n",
       "      <td>1</td>\n",
       "    </tr>\n",
       "    <tr>\n",
       "      <th>3</th>\n",
       "      <td>31/08/2019</td>\n",
       "      <td>4</td>\n",
       "      <td>in</td>\n",
       "      <td>1965188</td>\n",
       "      <td>Competitor 2</td>\n",
       "      <td>0</td>\n",
       "      <td>Competitor 9</td>\n",
       "      <td>14667</td>\n",
       "      <td>Active</td>\n",
       "      <td>CHANNEL 1</td>\n",
       "      <td>1</td>\n",
       "      <td>1</td>\n",
       "      <td>0</td>\n",
       "    </tr>\n",
       "    <tr>\n",
       "      <th>4</th>\n",
       "      <td>31/03/2017</td>\n",
       "      <td>5</td>\n",
       "      <td>out</td>\n",
       "      <td>0</td>\n",
       "      <td>Competitor 9</td>\n",
       "      <td>29433839</td>\n",
       "      <td>Competitor 10</td>\n",
       "      <td>30677</td>\n",
       "      <td>Active</td>\n",
       "      <td>CHANNEL 5</td>\n",
       "      <td>1</td>\n",
       "      <td>0</td>\n",
       "      <td>1</td>\n",
       "    </tr>\n",
       "  </tbody>\n",
       "</table>\n",
       "</div>"
      ],
      "text/plain": [
       "         DATE  ClientID MOVEMENT  BALANCE_IN     TRANSFEROR  BALANCE_OUT  \\\n",
       "0  31/12/2018         1       in    25777382  Competitor 14            0   \n",
       "1  28/02/2018         2      out           0   Competitor 9            0   \n",
       "2  31/01/2017         3      out           0   Competitor 9     17552962   \n",
       "3  31/08/2019         4       in     1965188   Competitor 2            0   \n",
       "4  31/03/2017         5      out           0   Competitor 9     29433839   \n",
       "\n",
       "       RECEPIENT  AGENT.ID  STATUS    CHANNEL  aux  IN  OUT  \n",
       "0   Competitor 9     24597  Active  CHANNEL 4    1   1    0  \n",
       "1  Competitor 10     13087  Active  CHANNEL 5    1   0    1  \n",
       "2  Competitor 10     18024  Active  CHANNEL 5    1   0    1  \n",
       "3   Competitor 9     14667  Active  CHANNEL 1    1   1    0  \n",
       "4  Competitor 10     30677  Active  CHANNEL 5    1   0    1  "
      ]
     },
     "execution_count": 4,
     "metadata": {},
     "output_type": "execute_result"
    }
   ],
   "source": [
    "df.head()"
   ]
  },
  {
   "cell_type": "code",
   "execution_count": 5,
   "id": "ab23348e-b3dc-4b90-81dd-f6c2f68ae46a",
   "metadata": {},
   "outputs": [],
   "source": [
    "# Definir los mapeos para los canales y los agentes\n",
    "\n",
    "channel_mapping = {\n",
    "    'CHANNEL 1': 'Facebook',\n",
    "    'CHANNEL 2': 'X',\n",
    "    'CHANNEL 3': 'Instagram',\n",
    "    'CHANNEL 4': 'LinkedIn',\n",
    "    'CHANNEL 5': 'WhatsApp',\n",
    "    'CHANNEL 6': 'TikTok',\n",
    "    'CHANNEL 7': 'Televisión',\n",
    "    'CHANNEL 8': 'Radio'\n",
    "}\n",
    "\n",
    "agent_mapping = {\n",
    "    'Competitor 2': 'Afore Azteca',\n",
    "    'Competitor 3': 'Afore Citibanamex',\n",
    "    'Competitor 4': 'Afore Coppel',\n",
    "    'Competitor 5': 'Afore Inbursa',\n",
    "    'Competitor 6': 'Afore Invercap',\n",
    "    'Competitor 7': 'Afore PensionISSSTE',\n",
    "    'Competitor 8': 'Afore SURA',\n",
    "    'Competitor 9': 'Afore XXI Banorte',\n",
    "    'Competitor 10': 'Afore Profuturo',\n",
    "    'Competitor 12': 'Afore Principal',\n",
    "    'Competitor 13': 'Afore X',\n",
    "    'Competitor 14': 'Afore Y'\n",
    "}\n"
   ]
  },
  {
   "cell_type": "code",
   "execution_count": 6,
   "id": "c0fa3342-1bcd-4f0d-944e-8b40027aa7f8",
   "metadata": {},
   "outputs": [],
   "source": [
    "\n",
    "# Sustituir los nombres en el DataFrame original\n",
    "\n",
    "df['CHANNEL'] = df['CHANNEL'].replace(channel_mapping)\n",
    "df['TRANSFEROR'] = df['TRANSFEROR'].replace(agent_mapping)\n",
    "df['RECEPIENT'] = df['RECEPIENT'].replace(agent_mapping)\n"
   ]
  },
  {
   "cell_type": "code",
   "execution_count": 7,
   "id": "4ab04545-bc9f-4cc7-8376-70a8428fb8f3",
   "metadata": {},
   "outputs": [
    {
     "data": {
      "text/html": [
       "<div>\n",
       "<style scoped>\n",
       "    .dataframe tbody tr th:only-of-type {\n",
       "        vertical-align: middle;\n",
       "    }\n",
       "\n",
       "    .dataframe tbody tr th {\n",
       "        vertical-align: top;\n",
       "    }\n",
       "\n",
       "    .dataframe thead th {\n",
       "        text-align: right;\n",
       "    }\n",
       "</style>\n",
       "<table border=\"1\" class=\"dataframe\">\n",
       "  <thead>\n",
       "    <tr style=\"text-align: right;\">\n",
       "      <th></th>\n",
       "      <th>DATE</th>\n",
       "      <th>ClientID</th>\n",
       "      <th>MOVEMENT</th>\n",
       "      <th>BALANCE_IN</th>\n",
       "      <th>TRANSFEROR</th>\n",
       "      <th>BALANCE_OUT</th>\n",
       "      <th>RECEPIENT</th>\n",
       "      <th>AGENT.ID</th>\n",
       "      <th>STATUS</th>\n",
       "      <th>CHANNEL</th>\n",
       "      <th>aux</th>\n",
       "      <th>IN</th>\n",
       "      <th>OUT</th>\n",
       "    </tr>\n",
       "  </thead>\n",
       "  <tbody>\n",
       "    <tr>\n",
       "      <th>0</th>\n",
       "      <td>31/12/2018</td>\n",
       "      <td>1</td>\n",
       "      <td>in</td>\n",
       "      <td>25777382</td>\n",
       "      <td>Afore Y</td>\n",
       "      <td>0</td>\n",
       "      <td>Afore XXI Banorte</td>\n",
       "      <td>24597</td>\n",
       "      <td>Active</td>\n",
       "      <td>LinkedIn</td>\n",
       "      <td>1</td>\n",
       "      <td>1</td>\n",
       "      <td>0</td>\n",
       "    </tr>\n",
       "    <tr>\n",
       "      <th>1</th>\n",
       "      <td>28/02/2018</td>\n",
       "      <td>2</td>\n",
       "      <td>out</td>\n",
       "      <td>0</td>\n",
       "      <td>Afore XXI Banorte</td>\n",
       "      <td>0</td>\n",
       "      <td>Afore Profuturo</td>\n",
       "      <td>13087</td>\n",
       "      <td>Active</td>\n",
       "      <td>WhatsApp</td>\n",
       "      <td>1</td>\n",
       "      <td>0</td>\n",
       "      <td>1</td>\n",
       "    </tr>\n",
       "    <tr>\n",
       "      <th>2</th>\n",
       "      <td>31/01/2017</td>\n",
       "      <td>3</td>\n",
       "      <td>out</td>\n",
       "      <td>0</td>\n",
       "      <td>Afore XXI Banorte</td>\n",
       "      <td>17552962</td>\n",
       "      <td>Afore Profuturo</td>\n",
       "      <td>18024</td>\n",
       "      <td>Active</td>\n",
       "      <td>WhatsApp</td>\n",
       "      <td>1</td>\n",
       "      <td>0</td>\n",
       "      <td>1</td>\n",
       "    </tr>\n",
       "    <tr>\n",
       "      <th>3</th>\n",
       "      <td>31/08/2019</td>\n",
       "      <td>4</td>\n",
       "      <td>in</td>\n",
       "      <td>1965188</td>\n",
       "      <td>Afore Azteca</td>\n",
       "      <td>0</td>\n",
       "      <td>Afore XXI Banorte</td>\n",
       "      <td>14667</td>\n",
       "      <td>Active</td>\n",
       "      <td>Facebook</td>\n",
       "      <td>1</td>\n",
       "      <td>1</td>\n",
       "      <td>0</td>\n",
       "    </tr>\n",
       "    <tr>\n",
       "      <th>4</th>\n",
       "      <td>31/03/2017</td>\n",
       "      <td>5</td>\n",
       "      <td>out</td>\n",
       "      <td>0</td>\n",
       "      <td>Afore XXI Banorte</td>\n",
       "      <td>29433839</td>\n",
       "      <td>Afore Profuturo</td>\n",
       "      <td>30677</td>\n",
       "      <td>Active</td>\n",
       "      <td>WhatsApp</td>\n",
       "      <td>1</td>\n",
       "      <td>0</td>\n",
       "      <td>1</td>\n",
       "    </tr>\n",
       "  </tbody>\n",
       "</table>\n",
       "</div>"
      ],
      "text/plain": [
       "         DATE  ClientID MOVEMENT  BALANCE_IN         TRANSFEROR  BALANCE_OUT  \\\n",
       "0  31/12/2018         1       in    25777382            Afore Y            0   \n",
       "1  28/02/2018         2      out           0  Afore XXI Banorte            0   \n",
       "2  31/01/2017         3      out           0  Afore XXI Banorte     17552962   \n",
       "3  31/08/2019         4       in     1965188       Afore Azteca            0   \n",
       "4  31/03/2017         5      out           0  Afore XXI Banorte     29433839   \n",
       "\n",
       "           RECEPIENT  AGENT.ID  STATUS   CHANNEL  aux  IN  OUT  \n",
       "0  Afore XXI Banorte     24597  Active  LinkedIn    1   1    0  \n",
       "1    Afore Profuturo     13087  Active  WhatsApp    1   0    1  \n",
       "2    Afore Profuturo     18024  Active  WhatsApp    1   0    1  \n",
       "3  Afore XXI Banorte     14667  Active  Facebook    1   1    0  \n",
       "4    Afore Profuturo     30677  Active  WhatsApp    1   0    1  "
      ]
     },
     "execution_count": 7,
     "metadata": {},
     "output_type": "execute_result"
    }
   ],
   "source": [
    "# Verificar los resultados de las sustituciones\n",
    "\n",
    "df.head()\n"
   ]
  },
  {
   "cell_type": "code",
   "execution_count": 8,
   "id": "752beeeb-b85d-408a-a47d-51dba6cd8606",
   "metadata": {},
   "outputs": [
    {
     "data": {
      "text/plain": [
       "DATE           object\n",
       "ClientID        int64\n",
       "MOVEMENT       object\n",
       "BALANCE_IN      int64\n",
       "TRANSFEROR     object\n",
       "BALANCE_OUT     int64\n",
       "RECEPIENT      object\n",
       "AGENT.ID        int64\n",
       "STATUS         object\n",
       "CHANNEL        object\n",
       "aux             int64\n",
       "IN              int64\n",
       "OUT             int64\n",
       "dtype: object"
      ]
     },
     "execution_count": 8,
     "metadata": {},
     "output_type": "execute_result"
    }
   ],
   "source": [
    "df.dtypes"
   ]
  },
  {
   "cell_type": "code",
   "execution_count": 9,
   "id": "04524587-ac8f-44d2-8741-67965a05f3e8",
   "metadata": {},
   "outputs": [],
   "source": [
    "df = df.rename(columns={'AGENT.ID': 'AGENT_ID'})   # renombrar columna"
   ]
  },
  {
   "cell_type": "code",
   "execution_count": 10,
   "id": "330b8460-f6b5-48a6-8302-238591288006",
   "metadata": {},
   "outputs": [],
   "source": [
    "df = df.drop ('aux', axis = 1)     # eliminar columna"
   ]
  },
  {
   "cell_type": "code",
   "execution_count": 11,
   "id": "8c119e5f-2862-41a8-a22b-75509d4c1eeb",
   "metadata": {},
   "outputs": [
    {
     "data": {
      "text/html": [
       "<div>\n",
       "<style scoped>\n",
       "    .dataframe tbody tr th:only-of-type {\n",
       "        vertical-align: middle;\n",
       "    }\n",
       "\n",
       "    .dataframe tbody tr th {\n",
       "        vertical-align: top;\n",
       "    }\n",
       "\n",
       "    .dataframe thead th {\n",
       "        text-align: right;\n",
       "    }\n",
       "</style>\n",
       "<table border=\"1\" class=\"dataframe\">\n",
       "  <thead>\n",
       "    <tr style=\"text-align: right;\">\n",
       "      <th></th>\n",
       "      <th>DATE</th>\n",
       "      <th>ClientID</th>\n",
       "      <th>MOVEMENT</th>\n",
       "      <th>BALANCE_IN</th>\n",
       "      <th>TRANSFEROR</th>\n",
       "      <th>BALANCE_OUT</th>\n",
       "      <th>RECEPIENT</th>\n",
       "      <th>AGENT_ID</th>\n",
       "      <th>STATUS</th>\n",
       "      <th>CHANNEL</th>\n",
       "      <th>IN</th>\n",
       "      <th>OUT</th>\n",
       "    </tr>\n",
       "  </thead>\n",
       "  <tbody>\n",
       "    <tr>\n",
       "      <th>0</th>\n",
       "      <td>31/12/2018</td>\n",
       "      <td>1</td>\n",
       "      <td>in</td>\n",
       "      <td>25777382</td>\n",
       "      <td>Afore Y</td>\n",
       "      <td>0</td>\n",
       "      <td>Afore XXI Banorte</td>\n",
       "      <td>24597</td>\n",
       "      <td>Active</td>\n",
       "      <td>LinkedIn</td>\n",
       "      <td>1</td>\n",
       "      <td>0</td>\n",
       "    </tr>\n",
       "    <tr>\n",
       "      <th>1</th>\n",
       "      <td>28/02/2018</td>\n",
       "      <td>2</td>\n",
       "      <td>out</td>\n",
       "      <td>0</td>\n",
       "      <td>Afore XXI Banorte</td>\n",
       "      <td>0</td>\n",
       "      <td>Afore Profuturo</td>\n",
       "      <td>13087</td>\n",
       "      <td>Active</td>\n",
       "      <td>WhatsApp</td>\n",
       "      <td>0</td>\n",
       "      <td>1</td>\n",
       "    </tr>\n",
       "    <tr>\n",
       "      <th>2</th>\n",
       "      <td>31/01/2017</td>\n",
       "      <td>3</td>\n",
       "      <td>out</td>\n",
       "      <td>0</td>\n",
       "      <td>Afore XXI Banorte</td>\n",
       "      <td>17552962</td>\n",
       "      <td>Afore Profuturo</td>\n",
       "      <td>18024</td>\n",
       "      <td>Active</td>\n",
       "      <td>WhatsApp</td>\n",
       "      <td>0</td>\n",
       "      <td>1</td>\n",
       "    </tr>\n",
       "    <tr>\n",
       "      <th>3</th>\n",
       "      <td>31/08/2019</td>\n",
       "      <td>4</td>\n",
       "      <td>in</td>\n",
       "      <td>1965188</td>\n",
       "      <td>Afore Azteca</td>\n",
       "      <td>0</td>\n",
       "      <td>Afore XXI Banorte</td>\n",
       "      <td>14667</td>\n",
       "      <td>Active</td>\n",
       "      <td>Facebook</td>\n",
       "      <td>1</td>\n",
       "      <td>0</td>\n",
       "    </tr>\n",
       "    <tr>\n",
       "      <th>4</th>\n",
       "      <td>31/03/2017</td>\n",
       "      <td>5</td>\n",
       "      <td>out</td>\n",
       "      <td>0</td>\n",
       "      <td>Afore XXI Banorte</td>\n",
       "      <td>29433839</td>\n",
       "      <td>Afore Profuturo</td>\n",
       "      <td>30677</td>\n",
       "      <td>Active</td>\n",
       "      <td>WhatsApp</td>\n",
       "      <td>0</td>\n",
       "      <td>1</td>\n",
       "    </tr>\n",
       "  </tbody>\n",
       "</table>\n",
       "</div>"
      ],
      "text/plain": [
       "         DATE  ClientID MOVEMENT  BALANCE_IN         TRANSFEROR  BALANCE_OUT  \\\n",
       "0  31/12/2018         1       in    25777382            Afore Y            0   \n",
       "1  28/02/2018         2      out           0  Afore XXI Banorte            0   \n",
       "2  31/01/2017         3      out           0  Afore XXI Banorte     17552962   \n",
       "3  31/08/2019         4       in     1965188       Afore Azteca            0   \n",
       "4  31/03/2017         5      out           0  Afore XXI Banorte     29433839   \n",
       "\n",
       "           RECEPIENT  AGENT_ID  STATUS   CHANNEL  IN  OUT  \n",
       "0  Afore XXI Banorte     24597  Active  LinkedIn   1    0  \n",
       "1    Afore Profuturo     13087  Active  WhatsApp   0    1  \n",
       "2    Afore Profuturo     18024  Active  WhatsApp   0    1  \n",
       "3  Afore XXI Banorte     14667  Active  Facebook   1    0  \n",
       "4    Afore Profuturo     30677  Active  WhatsApp   0    1  "
      ]
     },
     "execution_count": 11,
     "metadata": {},
     "output_type": "execute_result"
    }
   ],
   "source": [
    "df.head()"
   ]
  },
  {
   "cell_type": "code",
   "execution_count": 12,
   "id": "ec616721-1f10-41df-b138-7837bc93e4ec",
   "metadata": {},
   "outputs": [
    {
     "data": {
      "text/plain": [
       "DATE           object\n",
       "ClientID        int64\n",
       "MOVEMENT       object\n",
       "BALANCE_IN      int64\n",
       "TRANSFEROR     object\n",
       "BALANCE_OUT     int64\n",
       "RECEPIENT      object\n",
       "AGENT_ID        int64\n",
       "STATUS         object\n",
       "CHANNEL        object\n",
       "IN              int64\n",
       "OUT             int64\n",
       "dtype: object"
      ]
     },
     "execution_count": 12,
     "metadata": {},
     "output_type": "execute_result"
    }
   ],
   "source": [
    "df.dtypes"
   ]
  },
  {
   "cell_type": "code",
   "execution_count": 13,
   "id": "46cdb8b6-2f46-4d1b-b3e5-c909f9f96a6e",
   "metadata": {},
   "outputs": [],
   "source": [
    "# Guardar el DataFrame actualizado si es necesario\n",
    "\n",
    "df.to_csv('ClientMovementsSN_updated.csv', index = False)\n"
   ]
  },
  {
   "cell_type": "code",
   "execution_count": null,
   "id": "776482a5-f746-4e97-9f99-6955a5445370",
   "metadata": {},
   "outputs": [],
   "source": []
  },
  {
   "cell_type": "markdown",
   "id": "11ea0d4e-9817-4470-af99-bc1a13d473a7",
   "metadata": {},
   "source": [
    "## Base actualizada"
   ]
  },
  {
   "cell_type": "code",
   "execution_count": 14,
   "id": "a2021c27-c763-435c-8381-8bcd4b39ef93",
   "metadata": {},
   "outputs": [],
   "source": [
    "# Cargar archivo nuevo\n",
    "\n",
    "file_path_new = 'ClientMovementsSN_updated.csv'  \n",
    "\n",
    "data = pd.read_csv(file_path_new, sep = \",\")  "
   ]
  },
  {
   "cell_type": "code",
   "execution_count": 15,
   "id": "206cf42f-439b-4468-846e-f63dbb56028a",
   "metadata": {},
   "outputs": [
    {
     "data": {
      "text/plain": [
       "DATE           0\n",
       "ClientID       0\n",
       "MOVEMENT       0\n",
       "BALANCE_IN     0\n",
       "TRANSFEROR     0\n",
       "BALANCE_OUT    0\n",
       "RECEPIENT      0\n",
       "AGENT_ID       0\n",
       "STATUS         0\n",
       "CHANNEL        0\n",
       "IN             0\n",
       "OUT            0\n",
       "dtype: int64"
      ]
     },
     "execution_count": 15,
     "metadata": {},
     "output_type": "execute_result"
    }
   ],
   "source": [
    "# Valores nulos\n",
    "\n",
    "data.isna().sum()"
   ]
  },
  {
   "cell_type": "code",
   "execution_count": 16,
   "id": "a0a4366b-52cf-4863-931a-e57273ca39ff",
   "metadata": {},
   "outputs": [],
   "source": [
    "data['AGENT_ID'] = data['AGENT_ID'].astype('object')     # cambiar tipo de dato\n",
    "data['ClientID'] = data['ClientID'].astype('object')"
   ]
  },
  {
   "cell_type": "code",
   "execution_count": 17,
   "id": "19528afe-12e9-4e3b-b9f0-3fdfac7904b0",
   "metadata": {},
   "outputs": [
    {
     "name": "stdout",
     "output_type": "stream",
     "text": [
      "<class 'pandas.core.frame.DataFrame'>\n",
      "RangeIndex: 749202 entries, 0 to 749201\n",
      "Data columns (total 12 columns):\n",
      " #   Column       Non-Null Count   Dtype \n",
      "---  ------       --------------   ----- \n",
      " 0   DATE         749202 non-null  object\n",
      " 1   ClientID     749202 non-null  object\n",
      " 2   MOVEMENT     749202 non-null  object\n",
      " 3   BALANCE_IN   749202 non-null  int64 \n",
      " 4   TRANSFEROR   749202 non-null  object\n",
      " 5   BALANCE_OUT  749202 non-null  int64 \n",
      " 6   RECEPIENT    749202 non-null  object\n",
      " 7   AGENT_ID     749202 non-null  object\n",
      " 8   STATUS       749202 non-null  object\n",
      " 9   CHANNEL      749202 non-null  object\n",
      " 10  IN           749202 non-null  int64 \n",
      " 11  OUT          749202 non-null  int64 \n",
      "dtypes: int64(4), object(8)\n",
      "memory usage: 68.6+ MB\n"
     ]
    }
   ],
   "source": [
    "data.info()"
   ]
  },
  {
   "cell_type": "code",
   "execution_count": 18,
   "id": "e95056d3-eace-4ead-9e38-dfd8bf5c4416",
   "metadata": {},
   "outputs": [
    {
     "data": {
      "text/html": [
       "<div>\n",
       "<style scoped>\n",
       "    .dataframe tbody tr th:only-of-type {\n",
       "        vertical-align: middle;\n",
       "    }\n",
       "\n",
       "    .dataframe tbody tr th {\n",
       "        vertical-align: top;\n",
       "    }\n",
       "\n",
       "    .dataframe thead th {\n",
       "        text-align: right;\n",
       "    }\n",
       "</style>\n",
       "<table border=\"1\" class=\"dataframe\">\n",
       "  <thead>\n",
       "    <tr style=\"text-align: right;\">\n",
       "      <th></th>\n",
       "      <th>BALANCE_IN</th>\n",
       "      <th>BALANCE_OUT</th>\n",
       "      <th>IN</th>\n",
       "      <th>OUT</th>\n",
       "    </tr>\n",
       "  </thead>\n",
       "  <tbody>\n",
       "    <tr>\n",
       "      <th>count</th>\n",
       "      <td>7.492020e+05</td>\n",
       "      <td>7.492020e+05</td>\n",
       "      <td>749202.000000</td>\n",
       "      <td>749202.000000</td>\n",
       "    </tr>\n",
       "    <tr>\n",
       "      <th>mean</th>\n",
       "      <td>8.075061e+06</td>\n",
       "      <td>2.455343e+07</td>\n",
       "      <td>0.521000</td>\n",
       "      <td>0.479000</td>\n",
       "    </tr>\n",
       "    <tr>\n",
       "      <th>std</th>\n",
       "      <td>1.931037e+07</td>\n",
       "      <td>3.010547e+08</td>\n",
       "      <td>0.499559</td>\n",
       "      <td>0.499559</td>\n",
       "    </tr>\n",
       "    <tr>\n",
       "      <th>min</th>\n",
       "      <td>0.000000e+00</td>\n",
       "      <td>0.000000e+00</td>\n",
       "      <td>0.000000</td>\n",
       "      <td>0.000000</td>\n",
       "    </tr>\n",
       "    <tr>\n",
       "      <th>25%</th>\n",
       "      <td>0.000000e+00</td>\n",
       "      <td>0.000000e+00</td>\n",
       "      <td>0.000000</td>\n",
       "      <td>0.000000</td>\n",
       "    </tr>\n",
       "    <tr>\n",
       "      <th>50%</th>\n",
       "      <td>2.295560e+05</td>\n",
       "      <td>0.000000e+00</td>\n",
       "      <td>1.000000</td>\n",
       "      <td>0.000000</td>\n",
       "    </tr>\n",
       "    <tr>\n",
       "      <th>75%</th>\n",
       "      <td>8.810818e+06</td>\n",
       "      <td>7.747397e+06</td>\n",
       "      <td>1.000000</td>\n",
       "      <td>1.000000</td>\n",
       "    </tr>\n",
       "    <tr>\n",
       "      <th>max</th>\n",
       "      <td>9.668461e+08</td>\n",
       "      <td>9.997775e+09</td>\n",
       "      <td>1.000000</td>\n",
       "      <td>1.000000</td>\n",
       "    </tr>\n",
       "  </tbody>\n",
       "</table>\n",
       "</div>"
      ],
      "text/plain": [
       "         BALANCE_IN   BALANCE_OUT             IN            OUT\n",
       "count  7.492020e+05  7.492020e+05  749202.000000  749202.000000\n",
       "mean   8.075061e+06  2.455343e+07       0.521000       0.479000\n",
       "std    1.931037e+07  3.010547e+08       0.499559       0.499559\n",
       "min    0.000000e+00  0.000000e+00       0.000000       0.000000\n",
       "25%    0.000000e+00  0.000000e+00       0.000000       0.000000\n",
       "50%    2.295560e+05  0.000000e+00       1.000000       0.000000\n",
       "75%    8.810818e+06  7.747397e+06       1.000000       1.000000\n",
       "max    9.668461e+08  9.997775e+09       1.000000       1.000000"
      ]
     },
     "execution_count": 18,
     "metadata": {},
     "output_type": "execute_result"
    }
   ],
   "source": [
    "data.describe()"
   ]
  },
  {
   "cell_type": "code",
   "execution_count": 19,
   "id": "e49a0a03-6b46-4f57-adf1-e72e939910be",
   "metadata": {},
   "outputs": [
    {
     "name": "stdout",
     "output_type": "stream",
     "text": [
      "Valores únicos: \n",
      "  [24597 13087 18024 ... 16605 12946 7845]\n",
      "\n",
      " Cantidad de valores únicos: \n",
      "  31291\n"
     ]
    }
   ],
   "source": [
    "# Identificar agentes\n",
    "\n",
    "print(\"Valores únicos: \\n \", data['AGENT_ID'].unique())\n",
    "\n",
    "print(\"\\n Cantidad de valores únicos: \\n \", len(data['AGENT_ID'].unique()))"
   ]
  },
  {
   "cell_type": "code",
   "execution_count": 20,
   "id": "50067737-e185-4be5-afef-f4c84da7b966",
   "metadata": {},
   "outputs": [
    {
     "name": "stdout",
     "output_type": "stream",
     "text": [
      "Valores únicos: \n",
      "  ['LinkedIn' 'WhatsApp' 'Facebook' 'Radio' 'Televisión' 'Instagram'\n",
      " 'TikTok' 'X']\n",
      "\n",
      " Cantidad de valores únicos: \n",
      "  8\n"
     ]
    }
   ],
   "source": [
    "# Identificar CHANNEL\n",
    "\n",
    "print(\"Valores únicos: \\n \", data['CHANNEL'].unique())\n",
    "\n",
    "print(\"\\n Cantidad de valores únicos: \\n \", len(data['CHANNEL'].unique()))\n"
   ]
  },
  {
   "cell_type": "code",
   "execution_count": 21,
   "id": "c982b3c4-2230-43f8-af07-1de8626fe2f3",
   "metadata": {},
   "outputs": [
    {
     "name": "stdout",
     "output_type": "stream",
     "text": [
      "Valores únicos: \n",
      "  ['Active']\n",
      "\n",
      " Cantidad de valores únicos: \n",
      "  1\n"
     ]
    }
   ],
   "source": [
    "# Identificar STATUS\n",
    "\n",
    "print(\"Valores únicos: \\n \", data['STATUS'].unique())\n",
    "\n",
    "print(\"\\n Cantidad de valores únicos: \\n \", len(data['STATUS'].unique()))\n"
   ]
  },
  {
   "cell_type": "code",
   "execution_count": 22,
   "id": "9ae0dad3-f2a1-4600-96ce-e48a7a383cff",
   "metadata": {},
   "outputs": [
    {
     "name": "stdout",
     "output_type": "stream",
     "text": [
      "Valores únicos: \n",
      "  ['Afore Y' 'Afore XXI Banorte' 'Afore Azteca' 'Afore Citibanamex'\n",
      " 'Afore Principal' 'Afore PensionISSSTE' 'Afore Profuturo' 'Afore X'\n",
      " 'Afore Invercap' 'Afore Coppel' 'Afore SURA' 'Afore Inbursa']\n",
      "\n",
      " Cantidad de valores únicos: \n",
      "  12\n"
     ]
    }
   ],
   "source": [
    "# Identificar TRANSFEROR\n",
    "\n",
    "print(\"Valores únicos: \\n \", data['TRANSFEROR'].unique())\n",
    "\n",
    "print(\"\\n Cantidad de valores únicos: \\n \", len(data['TRANSFEROR'].unique()))\n"
   ]
  },
  {
   "cell_type": "code",
   "execution_count": 23,
   "id": "ef6149b0-8609-4d08-9a94-a292c5c99792",
   "metadata": {},
   "outputs": [
    {
     "name": "stdout",
     "output_type": "stream",
     "text": [
      "Valores únicos: \n",
      "  ['Afore XXI Banorte' 'Afore Profuturo']\n",
      "\n",
      " Cantidad de valores únicos: \n",
      "  2\n"
     ]
    }
   ],
   "source": [
    "# Identificar RECEPIENT\n",
    "\n",
    "print(\"Valores únicos: \\n \", data['RECEPIENT'].unique())\n",
    "\n",
    "print(\"\\n Cantidad de valores únicos: \\n \", len(data['RECEPIENT'].unique()))\n"
   ]
  },
  {
   "cell_type": "code",
   "execution_count": null,
   "id": "1d2afe92-fa91-47d5-a9f4-97fccbc3b4c5",
   "metadata": {},
   "outputs": [],
   "source": []
  },
  {
   "cell_type": "markdown",
   "id": "c151c771-9f00-4ee9-8453-54f76247dce9",
   "metadata": {},
   "source": [
    "## Análisis del *competidor 10 = Afore Profuturo*"
   ]
  },
  {
   "cell_type": "code",
   "execution_count": 24,
   "id": "c6c6d50e-6cf3-44e9-a71b-dc867eaa86e9",
   "metadata": {},
   "outputs": [],
   "source": [
    "# Convertir la columna DATE a formato datetime\n",
    "\n",
    "data['DATE'] = pd.to_datetime(data['DATE'], format = '%d/%m/%Y')\n"
   ]
  },
  {
   "cell_type": "code",
   "execution_count": 25,
   "id": "92fa9987-d127-4af3-8622-620bcd2f3586",
   "metadata": {},
   "outputs": [],
   "source": [
    "# Ordenar los datos por ClientID y fecha para analizar patrones\n",
    "\n",
    "data = data.sort_values(by=['ClientID', 'DATE'])\n"
   ]
  },
  {
   "cell_type": "code",
   "execution_count": 26,
   "id": "088ce224-abd9-47f8-aef7-dd1e66f1a5f1",
   "metadata": {},
   "outputs": [],
   "source": [
    "# Filtrar los movimientos relacionados con el competidor 10 = Afore Profuturo\n",
    "\n",
    "data_competitor_10 = data[\n",
    "    (data['TRANSFEROR'] == 'Afore Profuturo') | (data['RECEPIENT'] == 'Afore Profuturo')\n",
    "]\n"
   ]
  },
  {
   "cell_type": "code",
   "execution_count": 27,
   "id": "b9ad0267-52a2-4b20-aa88-9d78871dde65",
   "metadata": {},
   "outputs": [
    {
     "data": {
      "text/html": [
       "<div>\n",
       "<style scoped>\n",
       "    .dataframe tbody tr th:only-of-type {\n",
       "        vertical-align: middle;\n",
       "    }\n",
       "\n",
       "    .dataframe tbody tr th {\n",
       "        vertical-align: top;\n",
       "    }\n",
       "\n",
       "    .dataframe thead th {\n",
       "        text-align: right;\n",
       "    }\n",
       "</style>\n",
       "<table border=\"1\" class=\"dataframe\">\n",
       "  <thead>\n",
       "    <tr style=\"text-align: right;\">\n",
       "      <th></th>\n",
       "      <th>DATE</th>\n",
       "      <th>ClientID</th>\n",
       "      <th>MOVEMENT</th>\n",
       "      <th>BALANCE_IN</th>\n",
       "      <th>TRANSFEROR</th>\n",
       "      <th>BALANCE_OUT</th>\n",
       "      <th>RECEPIENT</th>\n",
       "      <th>AGENT_ID</th>\n",
       "      <th>STATUS</th>\n",
       "      <th>CHANNEL</th>\n",
       "      <th>IN</th>\n",
       "      <th>OUT</th>\n",
       "    </tr>\n",
       "  </thead>\n",
       "  <tbody>\n",
       "    <tr>\n",
       "      <th>1</th>\n",
       "      <td>2018-02-28</td>\n",
       "      <td>2</td>\n",
       "      <td>out</td>\n",
       "      <td>0</td>\n",
       "      <td>Afore XXI Banorte</td>\n",
       "      <td>0</td>\n",
       "      <td>Afore Profuturo</td>\n",
       "      <td>13087</td>\n",
       "      <td>Active</td>\n",
       "      <td>WhatsApp</td>\n",
       "      <td>0</td>\n",
       "      <td>1</td>\n",
       "    </tr>\n",
       "    <tr>\n",
       "      <th>2</th>\n",
       "      <td>2017-01-31</td>\n",
       "      <td>3</td>\n",
       "      <td>out</td>\n",
       "      <td>0</td>\n",
       "      <td>Afore XXI Banorte</td>\n",
       "      <td>17552962</td>\n",
       "      <td>Afore Profuturo</td>\n",
       "      <td>18024</td>\n",
       "      <td>Active</td>\n",
       "      <td>WhatsApp</td>\n",
       "      <td>0</td>\n",
       "      <td>1</td>\n",
       "    </tr>\n",
       "    <tr>\n",
       "      <th>4</th>\n",
       "      <td>2017-03-31</td>\n",
       "      <td>5</td>\n",
       "      <td>out</td>\n",
       "      <td>0</td>\n",
       "      <td>Afore XXI Banorte</td>\n",
       "      <td>29433839</td>\n",
       "      <td>Afore Profuturo</td>\n",
       "      <td>30677</td>\n",
       "      <td>Active</td>\n",
       "      <td>WhatsApp</td>\n",
       "      <td>0</td>\n",
       "      <td>1</td>\n",
       "    </tr>\n",
       "    <tr>\n",
       "      <th>5</th>\n",
       "      <td>2016-09-30</td>\n",
       "      <td>6</td>\n",
       "      <td>out</td>\n",
       "      <td>0</td>\n",
       "      <td>Afore XXI Banorte</td>\n",
       "      <td>6352446</td>\n",
       "      <td>Afore Profuturo</td>\n",
       "      <td>19040</td>\n",
       "      <td>Active</td>\n",
       "      <td>WhatsApp</td>\n",
       "      <td>0</td>\n",
       "      <td>1</td>\n",
       "    </tr>\n",
       "    <tr>\n",
       "      <th>6</th>\n",
       "      <td>2018-05-31</td>\n",
       "      <td>7</td>\n",
       "      <td>out</td>\n",
       "      <td>0</td>\n",
       "      <td>Afore XXI Banorte</td>\n",
       "      <td>11948542</td>\n",
       "      <td>Afore Profuturo</td>\n",
       "      <td>14204</td>\n",
       "      <td>Active</td>\n",
       "      <td>WhatsApp</td>\n",
       "      <td>0</td>\n",
       "      <td>1</td>\n",
       "    </tr>\n",
       "  </tbody>\n",
       "</table>\n",
       "</div>"
      ],
      "text/plain": [
       "        DATE ClientID MOVEMENT  BALANCE_IN         TRANSFEROR  BALANCE_OUT  \\\n",
       "1 2018-02-28        2      out           0  Afore XXI Banorte            0   \n",
       "2 2017-01-31        3      out           0  Afore XXI Banorte     17552962   \n",
       "4 2017-03-31        5      out           0  Afore XXI Banorte     29433839   \n",
       "5 2016-09-30        6      out           0  Afore XXI Banorte      6352446   \n",
       "6 2018-05-31        7      out           0  Afore XXI Banorte     11948542   \n",
       "\n",
       "         RECEPIENT AGENT_ID  STATUS   CHANNEL  IN  OUT  \n",
       "1  Afore Profuturo    13087  Active  WhatsApp   0    1  \n",
       "2  Afore Profuturo    18024  Active  WhatsApp   0    1  \n",
       "4  Afore Profuturo    30677  Active  WhatsApp   0    1  \n",
       "5  Afore Profuturo    19040  Active  WhatsApp   0    1  \n",
       "6  Afore Profuturo    14204  Active  WhatsApp   0    1  "
      ]
     },
     "execution_count": 27,
     "metadata": {},
     "output_type": "execute_result"
    }
   ],
   "source": [
    "data_competitor_10.head()"
   ]
  },
  {
   "cell_type": "code",
   "execution_count": 28,
   "id": "1ff00dca-fe5f-4ea8-819a-267546644662",
   "metadata": {},
   "outputs": [
    {
     "data": {
      "text/plain": [
       "(368615, 12)"
      ]
     },
     "execution_count": 28,
     "metadata": {},
     "output_type": "execute_result"
    }
   ],
   "source": [
    "data_competitor_10.shape"
   ]
  },
  {
   "cell_type": "code",
   "execution_count": 29,
   "id": "9ca46ff8-b522-4a8c-aee5-c926f6b0b1dd",
   "metadata": {},
   "outputs": [],
   "source": [
    "# Guardar los resultados para el competidor 10\n",
    "\n",
    "data_competitor_10.to_csv('Data_Competitor_10.csv', index = False)\n"
   ]
  },
  {
   "cell_type": "code",
   "execution_count": 30,
   "id": "4ca088b7-8464-4781-b4d3-fa34d2e37af4",
   "metadata": {},
   "outputs": [],
   "source": [
    "# Identificar patrones in-out-in y out-in-out\n",
    "\n",
    "suspicious_clients = []\n",
    "for client_id, group in data_competitor_10.groupby('ClientID'):\n",
    "    movements = group['MOVEMENT'].tolist()\n",
    "    agents = group['AGENT_ID'].tolist()\n",
    "    \n",
    "    if len(movements) >= 3:\n",
    "        for i in range(len(movements) - 2):\n",
    "    \n",
    "            # Patrón in-out-in\n",
    "            if movements[i:i+3] == ['in', 'out', 'in']:\n",
    "                suspicious_clients.append((client_id, agents[i], 'in-out-in'))\n",
    "            \n",
    "            # Patrón out-in-out\n",
    "            elif movements[i:i+3] == ['out', 'in', 'out']:\n",
    "                suspicious_clients.append((client_id, agents[i], 'out-in-out'))\n",
    "\n"
   ]
  },
  {
   "cell_type": "code",
   "execution_count": 31,
   "id": "041c778f-1752-4bfe-a068-c22114a96d3b",
   "metadata": {},
   "outputs": [],
   "source": [
    "# Crear un DataFrame para los clientes sospechosos\n",
    "\n",
    "suspicious_df = pd.DataFrame(suspicious_clients, columns=['ClientID', 'AgentID', 'Pattern'])\n"
   ]
  },
  {
   "cell_type": "code",
   "execution_count": 32,
   "id": "d3e29a20-2ce1-420f-aa2b-2e594d37c0ce",
   "metadata": {},
   "outputs": [],
   "source": [
    "# Analizar agentes sospechosos basados en patrones encontrados\n",
    "\n",
    "suspicious_agents = suspicious_df.groupby('AgentID').size().reset_index(name='Suspicious Patterns')\n"
   ]
  },
  {
   "cell_type": "code",
   "execution_count": 33,
   "id": "909f594b-a6f9-45b2-8198-02d58bbf7ac5",
   "metadata": {},
   "outputs": [],
   "source": [
    "# Ordenar por cantidad de patrones sospechosos\n",
    "\n",
    "suspicious_agents = suspicious_agents.sort_values(by='Suspicious Patterns', ascending=False)\n"
   ]
  },
  {
   "cell_type": "code",
   "execution_count": 34,
   "id": "82362874-111a-4bef-9080-2e625e262483",
   "metadata": {},
   "outputs": [
    {
     "name": "stdout",
     "output_type": "stream",
     "text": [
      "Análisis de agentes sospechosos basados en patrones in-out-in y out-in-out: \n",
      " \n",
      "    AgentID  Suspicious Patterns\n",
      "17     8410                    5\n",
      "0        87                    1\n",
      "27    17297                    1\n",
      "21    12783                    1\n",
      "22    14843                    1\n",
      "23    15345                    1\n",
      "24    15511                    1\n",
      "25    15614                    1\n",
      "26    17149                    1\n",
      "28    18537                    1\n"
     ]
    }
   ],
   "source": [
    "# Mostrar los 10 agentes más sospechosos\n",
    "\n",
    "print(\"Análisis de agentes sospechosos basados en patrones in-out-in y out-in-out: \\n \")\n",
    "print(suspicious_agents.head(10)) \n"
   ]
  },
  {
   "cell_type": "code",
   "execution_count": null,
   "id": "d07e4dff-1ea2-418f-8a97-f313795745d6",
   "metadata": {},
   "outputs": [],
   "source": []
  },
  {
   "cell_type": "code",
   "execution_count": 35,
   "id": "2a8d86df-0bb7-42d6-8678-eb83b91e8b66",
   "metadata": {},
   "outputs": [],
   "source": [
    "# Identificar patrones in-out-in y out-in-out\n",
    "\n",
    "suspicious_movements = []\n",
    "\n",
    "for client_id, group in data_competitor_10.groupby('ClientID'):\n",
    "    movements = group['MOVEMENT'].tolist()\n",
    "    agents = group['AGENT_ID'].tolist()\n",
    "    \n",
    "    if len(movements) >= 3:\n",
    "        for i in range(len(movements) - 2):\n",
    "            \n",
    "            # Detectar patrón in-out-in\n",
    "            if movements[i:i+3] == ['in', 'out', 'in']:\n",
    "                suspicious_movements.append((client_id, agents[i], agents[i+1], 'in-out-in'))\n",
    "            \n",
    "            # Detectar patrón out-in-out\n",
    "            elif movements[i:i+3] == ['out', 'in', 'out']:\n",
    "                suspicious_movements.append((client_id, agents[i], agents[i+1], 'out-in-out'))\n"
   ]
  },
  {
   "cell_type": "code",
   "execution_count": 36,
   "id": "a35d24c0-830b-41ff-85a7-8d77d70bd4c2",
   "metadata": {},
   "outputs": [],
   "source": [
    "# Crear un DataFrame para los movimientos sospechosos\n",
    "\n",
    "suspicious_df = pd.DataFrame(suspicious_movements, columns = ['ClientID', 'Agent_1', 'Agent_2', 'Pattern'])\n"
   ]
  },
  {
   "cell_type": "code",
   "execution_count": 37,
   "id": "47de45f2-616c-4c59-bdd5-770edbdd59e6",
   "metadata": {},
   "outputs": [],
   "source": [
    "# Crear tabla de pares únicos de agentes con clientes en común\n",
    "\n",
    "agent_pairs = suspicious_df.groupby(['Agent_1', 'Agent_2']).agg({'ClientID': 'nunique'}).reset_index()\n",
    "agent_pairs.rename(columns={'ClientID': 'Clientes_en_común'}, inplace = True)\n"
   ]
  },
  {
   "cell_type": "code",
   "execution_count": 38,
   "id": "c7b3574e-7f8f-4613-b707-c7ea64288690",
   "metadata": {},
   "outputs": [
    {
     "name": "stdout",
     "output_type": "stream",
     "text": [
      "Tabla de pares únicos de agentes con clientes en común: \n",
      " \n",
      "   Agent_1  Agent_2  Clientes_en_común\n",
      "0       87     2982                  1\n",
      "1      837      837                  1\n",
      "2     1185     6255                  1\n",
      "3     1388    13737                  1\n",
      "4     2041     7988                  1\n",
      "5     2553       87                  1\n",
      "6     3056     4647                  1\n",
      "7     3421     8677                  1\n",
      "8     3989     3649                  1\n",
      "9     3994     3413                  1\n"
     ]
    }
   ],
   "source": [
    "# Mostrar los primeros 10 pares\n",
    "\n",
    "print(\"Tabla de pares únicos de agentes con clientes en común: \\n \")\n",
    "print(agent_pairs.head(10))  \n"
   ]
  },
  {
   "cell_type": "code",
   "execution_count": 39,
   "id": "cf5d3d9a-b325-484b-8024-13c0157d7787",
   "metadata": {},
   "outputs": [
    {
     "name": "stdout",
     "output_type": "stream",
     "text": [
      "\n",
      " Archivos generados:\n",
      " - suspicious_movements.csv: Detalles de los patrones sospechosos\n",
      " - agent_pairs.csv: Pares de agentes y clientes en común para red en Power BI\n"
     ]
    }
   ],
   "source": [
    "# Guardar los resultados para visualización en Power BI\n",
    "\n",
    "suspicious_df.to_csv('suspicious_movements.csv', index = False)\n",
    "agent_pairs.to_csv('agent_pairs.csv', index = False)\n",
    "\n",
    "print(\"\\n Archivos generados:\")\n",
    "print(\" - suspicious_movements.csv: Detalles de los patrones sospechosos\")\n",
    "print(\" - agent_pairs.csv: Pares de agentes y clientes en común para red en Power BI\")"
   ]
  },
  {
   "cell_type": "code",
   "execution_count": null,
   "id": "68ac031b-746d-4594-8130-0f47b89b5b02",
   "metadata": {},
   "outputs": [],
   "source": []
  },
  {
   "cell_type": "markdown",
   "id": "c07488dd-23d9-4254-a42e-8ec0817cb871",
   "metadata": {},
   "source": [
    "### Centralidad.\n",
    "\n",
    "- **Degree Centrality:** Importancia de un nodo según el número de conexiones directas.\n",
    "- **Closeness Centrality:** Qué tan cerca está un nodo de todos los demás (distancia promedio).\n",
    "- **Betweenness Centrality:** Qué tan frecuentemente un nodo actúa como puente en las rutas más cortas.\n",
    "- **Eigenvector Centrality:** Importancia basada en la conexión con otros nodos importantes.\n"
   ]
  },
  {
   "cell_type": "code",
   "execution_count": 40,
   "id": "3cb4ed36-2c5e-4c4c-a870-24f0d2fec911",
   "metadata": {},
   "outputs": [],
   "source": [
    "edges = pd.read_csv('agent_pairs.csv')\n",
    "\n",
    "# Crear el grafo\n",
    "G = nx.Graph()\n",
    "for _, row in edges.iterrows():\n",
    "    G.add_edge(row['Agent_1'], row['Agent_2'], weight=row['Clientes_en_común'])\n",
    "\n",
    "\n",
    "# Calcular centralidades\n",
    "centrality_degree = nx.degree_centrality(G)                                  # Centralidad de grado\n",
    "centrality_closeness = nx.closeness_centrality(G)                            # Centralidad de cercanía\n",
    "centrality_betweenness = nx.betweenness_centrality(G, weight = 'weight')     # Intermediación\n",
    "centrality_eigenvector = nx.eigenvector_centrality(G)                        # Autovector\n",
    "\n",
    "\n",
    "# Crear un DataFrame con resultados\n",
    "centrality_df = pd.DataFrame({\n",
    "    'Agent': list(centrality_degree.keys()),\n",
    "    'Degree Centrality': list(centrality_degree.values()),\n",
    "    'Closeness Centrality': list(centrality_closeness.values()),\n",
    "    'Betweenness Centrality': list(centrality_betweenness.values()),\n",
    "    'Eigenvector Centrality': list(centrality_eigenvector.values())\n",
    "})\n",
    "\n",
    "\n"
   ]
  },
  {
   "cell_type": "code",
   "execution_count": 41,
   "id": "4bdf58b0-4072-4bc7-9788-273cdcd16bba",
   "metadata": {},
   "outputs": [
    {
     "data": {
      "text/html": [
       "<div>\n",
       "<style scoped>\n",
       "    .dataframe tbody tr th:only-of-type {\n",
       "        vertical-align: middle;\n",
       "    }\n",
       "\n",
       "    .dataframe tbody tr th {\n",
       "        vertical-align: top;\n",
       "    }\n",
       "\n",
       "    .dataframe thead th {\n",
       "        text-align: right;\n",
       "    }\n",
       "</style>\n",
       "<table border=\"1\" class=\"dataframe\">\n",
       "  <thead>\n",
       "    <tr style=\"text-align: right;\">\n",
       "      <th></th>\n",
       "      <th>Agent</th>\n",
       "      <th>Degree Centrality</th>\n",
       "      <th>Closeness Centrality</th>\n",
       "      <th>Betweenness Centrality</th>\n",
       "      <th>Eigenvector Centrality</th>\n",
       "    </tr>\n",
       "  </thead>\n",
       "  <tbody>\n",
       "    <tr>\n",
       "      <th>0</th>\n",
       "      <td>87</td>\n",
       "      <td>0.032258</td>\n",
       "      <td>0.036290</td>\n",
       "      <td>0.001058</td>\n",
       "      <td>1.175340e-04</td>\n",
       "    </tr>\n",
       "    <tr>\n",
       "      <th>1</th>\n",
       "      <td>2982</td>\n",
       "      <td>0.016129</td>\n",
       "      <td>0.024194</td>\n",
       "      <td>0.000000</td>\n",
       "      <td>7.264001e-05</td>\n",
       "    </tr>\n",
       "    <tr>\n",
       "      <th>2</th>\n",
       "      <td>837</td>\n",
       "      <td>0.032258</td>\n",
       "      <td>0.000000</td>\n",
       "      <td>0.000000</td>\n",
       "      <td>3.289842e-12</td>\n",
       "    </tr>\n",
       "    <tr>\n",
       "      <th>3</th>\n",
       "      <td>1185</td>\n",
       "      <td>0.016129</td>\n",
       "      <td>0.016129</td>\n",
       "      <td>0.000000</td>\n",
       "      <td>3.289842e-12</td>\n",
       "    </tr>\n",
       "    <tr>\n",
       "      <th>4</th>\n",
       "      <td>6255</td>\n",
       "      <td>0.016129</td>\n",
       "      <td>0.016129</td>\n",
       "      <td>0.000000</td>\n",
       "      <td>3.289842e-12</td>\n",
       "    </tr>\n",
       "  </tbody>\n",
       "</table>\n",
       "</div>"
      ],
      "text/plain": [
       "   Agent  Degree Centrality  Closeness Centrality  Betweenness Centrality  \\\n",
       "0     87           0.032258              0.036290                0.001058   \n",
       "1   2982           0.016129              0.024194                0.000000   \n",
       "2    837           0.032258              0.000000                0.000000   \n",
       "3   1185           0.016129              0.016129                0.000000   \n",
       "4   6255           0.016129              0.016129                0.000000   \n",
       "\n",
       "   Eigenvector Centrality  \n",
       "0            1.175340e-04  \n",
       "1            7.264001e-05  \n",
       "2            3.289842e-12  \n",
       "3            3.289842e-12  \n",
       "4            3.289842e-12  "
      ]
     },
     "execution_count": 41,
     "metadata": {},
     "output_type": "execute_result"
    }
   ],
   "source": [
    "centrality_df.head()"
   ]
  },
  {
   "cell_type": "code",
   "execution_count": 42,
   "id": "1c258a19-4245-45be-978a-7d4ca07b3ff4",
   "metadata": {},
   "outputs": [],
   "source": [
    "# Guardar los resultados\n",
    "\n",
    "centrality_df.to_csv('agent_centralities.csv', index = False)\n"
   ]
  },
  {
   "cell_type": "code",
   "execution_count": null,
   "id": "0e34c0d2-140f-4a4e-8d29-9ea0971513fa",
   "metadata": {},
   "outputs": [],
   "source": []
  },
  {
   "cell_type": "markdown",
   "id": "27d9276a-806c-437b-955b-a1b87a2b0eae",
   "metadata": {},
   "source": [
    "### Geodistancia \n",
    "\n",
    "Distancia promedio entre nodos."
   ]
  },
  {
   "cell_type": "code",
   "execution_count": 43,
   "id": "601b7e7a-3234-4cde-bacf-b803e25f50d9",
   "metadata": {},
   "outputs": [],
   "source": [
    "components = [G.subgraph(c).copy() for c in nx.connected_components(G)]\n"
   ]
  },
  {
   "cell_type": "code",
   "execution_count": 44,
   "id": "b8e4fa70-a608-47c2-84e3-870e0142d48b",
   "metadata": {},
   "outputs": [],
   "source": [
    "centrality_results = []\n",
    "\n",
    "for i, subgraph in enumerate(components):\n",
    "    # Calcular centralidades solo para el componente conectado\n",
    "    centrality_degree = nx.degree_centrality(subgraph)\n",
    "    centrality_closeness = nx.closeness_centrality(subgraph)\n",
    "    centrality_betweenness = nx.betweenness_centrality(subgraph, weight='weight')\n",
    "    centrality_eigenvector = nx.eigenvector_centrality(subgraph)\n",
    "\n",
    "    # Agregar resultados al DataFrame\n",
    "    for node in subgraph.nodes():\n",
    "        centrality_results.append({\n",
    "            'Component': i,\n",
    "            'Agent': node,\n",
    "            'Degree Centrality': centrality_degree[node],\n",
    "            'Closeness Centrality': centrality_closeness[node],\n",
    "            'Betweenness Centrality': centrality_betweenness[node],\n",
    "            'Eigenvector Centrality': centrality_eigenvector[node]\n",
    "        })\n"
   ]
  },
  {
   "cell_type": "code",
   "execution_count": 45,
   "id": "aacde30c-4f59-4ffd-8363-b6ee112c832b",
   "metadata": {},
   "outputs": [
    {
     "data": {
      "text/html": [
       "<div>\n",
       "<style scoped>\n",
       "    .dataframe tbody tr th:only-of-type {\n",
       "        vertical-align: middle;\n",
       "    }\n",
       "\n",
       "    .dataframe tbody tr th {\n",
       "        vertical-align: top;\n",
       "    }\n",
       "\n",
       "    .dataframe thead th {\n",
       "        text-align: right;\n",
       "    }\n",
       "</style>\n",
       "<table border=\"1\" class=\"dataframe\">\n",
       "  <thead>\n",
       "    <tr style=\"text-align: right;\">\n",
       "      <th></th>\n",
       "      <th>Component</th>\n",
       "      <th>Agent</th>\n",
       "      <th>Degree Centrality</th>\n",
       "      <th>Closeness Centrality</th>\n",
       "      <th>Betweenness Centrality</th>\n",
       "      <th>Eigenvector Centrality</th>\n",
       "    </tr>\n",
       "  </thead>\n",
       "  <tbody>\n",
       "    <tr>\n",
       "      <th>0</th>\n",
       "      <td>0</td>\n",
       "      <td>2553</td>\n",
       "      <td>0.666667</td>\n",
       "      <td>0.75</td>\n",
       "      <td>0.666667</td>\n",
       "      <td>0.601501</td>\n",
       "    </tr>\n",
       "    <tr>\n",
       "      <th>1</th>\n",
       "      <td>0</td>\n",
       "      <td>5225</td>\n",
       "      <td>0.333333</td>\n",
       "      <td>0.50</td>\n",
       "      <td>0.000000</td>\n",
       "      <td>0.371748</td>\n",
       "    </tr>\n",
       "    <tr>\n",
       "      <th>2</th>\n",
       "      <td>0</td>\n",
       "      <td>2982</td>\n",
       "      <td>0.333333</td>\n",
       "      <td>0.50</td>\n",
       "      <td>0.000000</td>\n",
       "      <td>0.371748</td>\n",
       "    </tr>\n",
       "    <tr>\n",
       "      <th>3</th>\n",
       "      <td>0</td>\n",
       "      <td>87</td>\n",
       "      <td>0.666667</td>\n",
       "      <td>0.75</td>\n",
       "      <td>0.666667</td>\n",
       "      <td>0.601501</td>\n",
       "    </tr>\n",
       "    <tr>\n",
       "      <th>4</th>\n",
       "      <td>1</td>\n",
       "      <td>837</td>\n",
       "      <td>1.000000</td>\n",
       "      <td>0.00</td>\n",
       "      <td>0.000000</td>\n",
       "      <td>1.000000</td>\n",
       "    </tr>\n",
       "  </tbody>\n",
       "</table>\n",
       "</div>"
      ],
      "text/plain": [
       "   Component  Agent  Degree Centrality  Closeness Centrality  \\\n",
       "0          0   2553           0.666667                  0.75   \n",
       "1          0   5225           0.333333                  0.50   \n",
       "2          0   2982           0.333333                  0.50   \n",
       "3          0     87           0.666667                  0.75   \n",
       "4          1    837           1.000000                  0.00   \n",
       "\n",
       "   Betweenness Centrality  Eigenvector Centrality  \n",
       "0                0.666667                0.601501  \n",
       "1                0.000000                0.371748  \n",
       "2                0.000000                0.371748  \n",
       "3                0.666667                0.601501  \n",
       "4                0.000000                1.000000  "
      ]
     },
     "execution_count": 45,
     "metadata": {},
     "output_type": "execute_result"
    }
   ],
   "source": [
    "centrality_df = pd.DataFrame(centrality_results)\n",
    "\n",
    "centrality_df.head()\n"
   ]
  },
  {
   "cell_type": "code",
   "execution_count": 46,
   "id": "cab1d80e-cbec-44b8-af4c-9400575a87d2",
   "metadata": {},
   "outputs": [],
   "source": [
    "# Guardar resultado\n",
    "\n",
    "centrality_df.to_csv('agent_centralities.csv', index = False)\n"
   ]
  },
  {
   "cell_type": "code",
   "execution_count": 47,
   "id": "0fd40252-a15b-4ebd-8b3b-abe227cc0fc9",
   "metadata": {},
   "outputs": [
    {
     "data": {
      "image/png": "[encoded data removed]",
      "text/plain": [
       "<Figure size 1000x600 with 1 Axes>"
      ]
     },
     "metadata": {},
     "output_type": "display_data"
    }
   ],
   "source": [
    "import matplotlib.pyplot as plt\n",
    "\n",
    "# Ordenar los datos por una métrica específica (ejemplo: Degree Centrality)\n",
    "centrality_df_sorted = centrality_df.sort_values(by='Degree Centrality', ascending = False).head(10)\n",
    "\n",
    "# Crear el gráfico de barras horizontales\n",
    "plt.figure(figsize=(10, 6))\n",
    "bars = plt.barh(centrality_df_sorted['Agent'], centrality_df_sorted['Degree Centrality'], color = 'pink')\n",
    "\n",
    "# Ajustar el rango del eje \n",
    "plt.ylim(0, 60)  \n",
    "\n",
    "# Etiquetas y título\n",
    "plt.xlabel('Degree Centrality', fontsize=12)\n",
    "plt.ylabel('Agent', fontsize=12)\n",
    "plt.title('Top 10 Agentes por Centralidad de Grado', fontsize = 14)\n",
    "\n",
    "# Ajustar las etiquetas del eje Y para que no se corten\n",
    "plt.yticks(fontsize = 10)  # Cambia el tamaño de fuente de las etiquetas en el eje Y\n",
    "\n",
    "# Asegurarse de que el diseño no corte las etiquetas\n",
    "plt.tight_layout()\n",
    "\n",
    "# Mostrar el gráfico\n",
    "plt.show()\n",
    "\n"
   ]
  },
  {
   "cell_type": "code",
   "execution_count": null,
   "id": "5494da44-1ea8-4de2-bcf9-50de0c876bfe",
   "metadata": {},
   "outputs": [],
   "source": []
  }
 ],
 "metadata": {
  "kernelspec": {
   "display_name": "Python [conda env:base] *",
   "language": "python",
   "name": "conda-base-py"
  },
  "language_info": {
   "codemirror_mode": {
    "name": "ipython",
    "version": 3
   },
   "file_extension": ".py",
   "mimetype": "text/x-python",
   "name": "python",
   "nbconvert_exporter": "python",
   "pygments_lexer": "ipython3",
   "version": "3.12.7"
  }
 },
 "nbformat": 4,
 "nbformat_minor": 5
}
