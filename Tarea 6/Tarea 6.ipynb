{
 "cells": [
  {
   "attachments": {},
   "cell_type": "markdown",
   "id": "e39470f2-9bad-4d9b-9202-443fa3242692",
   "metadata": {},
   "source": [
    "# **Caso de estudio 6.** Modelo Linear Mixto"
   ]
  },
  {
   "cell_type": "markdown",
   "id": "8fd30990-f135-4b55-9d53-2ddf4b9b09b9",
   "metadata": {},
   "source": [
    "## 1. Base de datos: Salaries Municipality Guayaquil\n",
    "\n",
    "Link: https://www.kaggle.com/datasets/danielveraec/salaries-municipality-guayaquil?resource=download\n",
    "\n",
    "Este dataset contiene información sobre la remuneración de los colaboradores del municipio de Guayaquil. Incluye datos como el nombre del colaborador, su cargo institucional, régimen laboral, ítem presupuestario, grado jerárquico, remuneración mensual y anual, remuneración por décimo tercer y décimo cuarto sueldo, horas suplementarias, cargos y subrogaciones, ingresos adicionales totales, mes y año en que se generaron los ingresos y el municipio al que pertenece el colaborador. Este dataset puede ser útil para analizar la remuneración de los empleados públicos en Guayaquil y cómo ésta varía según diferentes factores.\n",
    "\n",
    "\n",
    "Variables clave :\n",
    "- names: Nombre del empleado\n",
    "- institutional_position: Cargo dentro del municipio\n",
    "- hierarchical_grade: Nivel jerárquico del cargo\n",
    "- monthly_remuneration: Salario mensual\n",
    "- annual_remuneration: Salario anual\n",
    "- labor_regime: Tipo de contrato (LOSEP, CT, etc.)\n",
    "- budget_item: Código presupuestario\n",
    "- municipality: Municipio (solo Guayaquil)\n",
    "- year y month: Año y mes de la información"
   ]
  },
  {
   "cell_type": "markdown",
   "id": "86940469-9230-4847-95d4-4bb38fd1f54d",
   "metadata": {},
   "source": [
    "## 2. Definiendo la estructura jerárquica\n",
    "\n",
    "Podemos considerar la siguiente jerarquía:\n",
    "- Nivel 1 (Grupo Superior): Posición institucional (institutional_position)\n",
    "- Nivel 2 (Grupo Secundario): Empleados individuales (names)\n",
    "\n",
    "Esto nos permitirá modelar el salario mensual (monthly_remuneration) como una variable dependiente, incorporando efectos aleatorios por cargo."
   ]
  },
  {
   "cell_type": "markdown",
   "id": "7e4c351b-4aa0-4783-bf5a-8ba408e6c57e",
   "metadata": {},
   "source": [
    "## 3. Planteamiento del problema de negocio\n",
    "\n",
    "📌 **Pregunta de negocio:**  \n",
    "\"¿Cómo varía la remuneración mensual entre diferentes cargos del municipio, considerando variaciones individuales de los empleados?\"\n",
    "\n",
    "\n",
    "📌 **Objetivo del modelo:**  \n",
    "Identificar la influencia del cargo sobre la remuneración mensual.  \n",
    "Capturar variabilidad dentro de cada cargo (efecto aleatorio).  \n",
    "Diferenciar los efectos fijos (por régimen laboral, jerarquía, etc.).\n"
   ]
  },
  {
   "cell_type": "markdown",
   "id": "e281c2c1-78e2-4493-bccd-ccbaa7106444",
   "metadata": {},
   "source": [
    "## 4. Código para el Modelo Linear Mixto."
   ]
  },
  {
   "cell_type": "code",
   "execution_count": 6,
   "id": "32bddfba-54be-46f1-8258-b18801f2fbfe",
   "metadata": {},
   "outputs": [],
   "source": [
    "#pip install pymer4\n"
   ]
  },
  {
   "cell_type": "code",
   "execution_count": null,
   "id": "1d82bb93-b28c-46e9-b906-c242d5dc437d",
   "metadata": {},
   "outputs": [],
   "source": []
  },
  {
   "cell_type": "code",
   "execution_count": 7,
   "id": "018fea69-fffd-4f2b-8d38-af60f26a8a43",
   "metadata": {},
   "outputs": [],
   "source": [
    "import os\n",
    "import pandas as pd\n",
    "import numpy as np\n",
    "import seaborn as sns\n",
    "import matplotlib.pyplot as plt\n",
    "\n",
    "from pymer4.models import Lmer\n"
   ]
  },
  {
   "cell_type": "code",
   "execution_count": 8,
   "id": "fa3729cb-a05b-4429-ba74-f2aadfb2a85d",
   "metadata": {},
   "outputs": [],
   "source": [
    "# 📌 1. Cargar los datos\n",
    "file_path = \"salaries-municipality-guayaquil.xlsx\"\n",
    "df = pd.read_excel(file_path, sheet_name = \"salaries\")\n"
   ]
  },
  {
   "cell_type": "code",
   "execution_count": 9,
   "id": "f73da78f-87fd-4d25-87bb-6a67cb731fe9",
   "metadata": {},
   "outputs": [
    {
     "data": {
      "text/html": [
       "<div>\n",
       "<style scoped>\n",
       "    .dataframe tbody tr th:only-of-type {\n",
       "        vertical-align: middle;\n",
       "    }\n",
       "\n",
       "    .dataframe tbody tr th {\n",
       "        vertical-align: top;\n",
       "    }\n",
       "\n",
       "    .dataframe thead th {\n",
       "        text-align: right;\n",
       "    }\n",
       "</style>\n",
       "<table border=\"1\" class=\"dataframe\">\n",
       "  <thead>\n",
       "    <tr style=\"text-align: right;\">\n",
       "      <th></th>\n",
       "      <th>institutional_position</th>\n",
       "      <th>hierarchical_grade</th>\n",
       "      <th>labor_regime</th>\n",
       "      <th>monthly_remuneration</th>\n",
       "    </tr>\n",
       "  </thead>\n",
       "  <tbody>\n",
       "    <tr>\n",
       "      <th>0</th>\n",
       "      <td>TESORERO</td>\n",
       "      <td>19B</td>\n",
       "      <td>LOSEP</td>\n",
       "      <td>4751.74</td>\n",
       "    </tr>\n",
       "    <tr>\n",
       "      <th>1</th>\n",
       "      <td>FAENADOR</td>\n",
       "      <td>2-</td>\n",
       "      <td>CT</td>\n",
       "      <td>515.64</td>\n",
       "    </tr>\n",
       "    <tr>\n",
       "      <th>2</th>\n",
       "      <td>ASISTENTE ADMINISTRATIVO</td>\n",
       "      <td>10-</td>\n",
       "      <td>LOSEP</td>\n",
       "      <td>756.00</td>\n",
       "    </tr>\n",
       "    <tr>\n",
       "      <th>3</th>\n",
       "      <td>ASISTENTE DE RESOLUCIONES</td>\n",
       "      <td>9-</td>\n",
       "      <td>LOSEP</td>\n",
       "      <td>714.00</td>\n",
       "    </tr>\n",
       "    <tr>\n",
       "      <th>4</th>\n",
       "      <td>FISCALIZADOR/CONTROL URBANIZ Y USOS/SUEL</td>\n",
       "      <td>11-</td>\n",
       "      <td>LOSEP</td>\n",
       "      <td>873.80</td>\n",
       "    </tr>\n",
       "  </tbody>\n",
       "</table>\n",
       "</div>"
      ],
      "text/plain": [
       "                     institutional_position hierarchical_grade labor_regime  \\\n",
       "0                                  TESORERO                19B        LOSEP   \n",
       "1                                  FAENADOR                 2-           CT   \n",
       "2                  ASISTENTE ADMINISTRATIVO                10-        LOSEP   \n",
       "3                 ASISTENTE DE RESOLUCIONES                 9-        LOSEP   \n",
       "4  FISCALIZADOR/CONTROL URBANIZ Y USOS/SUEL                11-        LOSEP   \n",
       "\n",
       "   monthly_remuneration  \n",
       "0               4751.74  \n",
       "1                515.64  \n",
       "2                756.00  \n",
       "3                714.00  \n",
       "4                873.80  "
      ]
     },
     "execution_count": 9,
     "metadata": {},
     "output_type": "execute_result"
    }
   ],
   "source": [
    "# 📌 2. Seleccionar las columnas de interés\n",
    "df_clean = df[['institutional_position', 'hierarchical_grade', 'labor_regime', 'monthly_remuneration']]\n",
    "df_clean.head()\n"
   ]
  },
  {
   "cell_type": "code",
   "execution_count": 10,
   "id": "a6aba9da-ed58-4bf1-8dc8-be20f672f426",
   "metadata": {},
   "outputs": [
    {
     "name": "stdout",
     "output_type": "stream",
     "text": [
      "Valores nulos antes de la limpieza:\n"
     ]
    },
    {
     "data": {
      "text/plain": [
       "institutional_position    0\n",
       "hierarchical_grade        0\n",
       "labor_regime              2\n",
       "monthly_remuneration      0\n",
       "dtype: int64"
      ]
     },
     "execution_count": 10,
     "metadata": {},
     "output_type": "execute_result"
    }
   ],
   "source": [
    "# Mostrar el conteo de valores nulos \n",
    "print(\"Valores nulos antes de la limpieza:\")\n",
    "df_clean.isnull().sum()\n"
   ]
  },
  {
   "cell_type": "code",
   "execution_count": 11,
   "id": "4816d7ff-5ebc-408b-806b-14b1898cc59e",
   "metadata": {},
   "outputs": [
    {
     "name": "stdout",
     "output_type": "stream",
     "text": [
      "Las dimensiones del dataset es:  (93538, 4)\n",
      "\n",
      "Las primeras filas del dataset es: \n"
     ]
    },
    {
     "data": {
      "text/html": [
       "<div>\n",
       "<style scoped>\n",
       "    .dataframe tbody tr th:only-of-type {\n",
       "        vertical-align: middle;\n",
       "    }\n",
       "\n",
       "    .dataframe tbody tr th {\n",
       "        vertical-align: top;\n",
       "    }\n",
       "\n",
       "    .dataframe thead th {\n",
       "        text-align: right;\n",
       "    }\n",
       "</style>\n",
       "<table border=\"1\" class=\"dataframe\">\n",
       "  <thead>\n",
       "    <tr style=\"text-align: right;\">\n",
       "      <th></th>\n",
       "      <th>institutional_position</th>\n",
       "      <th>hierarchical_grade</th>\n",
       "      <th>labor_regime</th>\n",
       "      <th>monthly_remuneration</th>\n",
       "    </tr>\n",
       "  </thead>\n",
       "  <tbody>\n",
       "    <tr>\n",
       "      <th>0</th>\n",
       "      <td>TESORERO</td>\n",
       "      <td>19B</td>\n",
       "      <td>LOSEP</td>\n",
       "      <td>4751.74</td>\n",
       "    </tr>\n",
       "    <tr>\n",
       "      <th>1</th>\n",
       "      <td>FAENADOR</td>\n",
       "      <td>2-</td>\n",
       "      <td>CT</td>\n",
       "      <td>515.64</td>\n",
       "    </tr>\n",
       "    <tr>\n",
       "      <th>2</th>\n",
       "      <td>ASISTENTE ADMINISTRATIVO</td>\n",
       "      <td>10-</td>\n",
       "      <td>LOSEP</td>\n",
       "      <td>756.00</td>\n",
       "    </tr>\n",
       "    <tr>\n",
       "      <th>3</th>\n",
       "      <td>ASISTENTE DE RESOLUCIONES</td>\n",
       "      <td>9-</td>\n",
       "      <td>LOSEP</td>\n",
       "      <td>714.00</td>\n",
       "    </tr>\n",
       "    <tr>\n",
       "      <th>4</th>\n",
       "      <td>FISCALIZADOR/CONTROL URBANIZ Y USOS/SUEL</td>\n",
       "      <td>11-</td>\n",
       "      <td>LOSEP</td>\n",
       "      <td>873.80</td>\n",
       "    </tr>\n",
       "  </tbody>\n",
       "</table>\n",
       "</div>"
      ],
      "text/plain": [
       "                     institutional_position hierarchical_grade labor_regime  \\\n",
       "0                                  TESORERO                19B        LOSEP   \n",
       "1                                  FAENADOR                 2-           CT   \n",
       "2                  ASISTENTE ADMINISTRATIVO                10-        LOSEP   \n",
       "3                 ASISTENTE DE RESOLUCIONES                 9-        LOSEP   \n",
       "4  FISCALIZADOR/CONTROL URBANIZ Y USOS/SUEL                11-        LOSEP   \n",
       "\n",
       "   monthly_remuneration  \n",
       "0               4751.74  \n",
       "1                515.64  \n",
       "2                756.00  \n",
       "3                714.00  \n",
       "4                873.80  "
      ]
     },
     "execution_count": 11,
     "metadata": {},
     "output_type": "execute_result"
    }
   ],
   "source": [
    "# Eliminar filas con valores nulos\n",
    "df_clean = df_clean.dropna()\n",
    "print(\"Las dimensiones del dataset es: \", df_clean.shape)\n",
    "print(\"\\nLas primeras filas del dataset es: \")\n",
    "df_clean.head()\n"
   ]
  },
  {
   "cell_type": "code",
   "execution_count": 12,
   "id": "e68b2e51-b44e-43d3-8ff7-6b6f0c02196d",
   "metadata": {},
   "outputs": [],
   "source": [
    "# Renombrar columnas para facilitar el uso en fórmulas\n",
    "df_clean = df_clean.rename(columns = {\"institutional_position\": \"position\",\n",
    "                                      \"hierarchical_grade\": \"grade\",\n",
    "                                      \"labor_regime\": \"regime\",\n",
    "                                      \"monthly_remuneration\": \"salary\"\n",
    "                                     })\n"
   ]
  },
  {
   "cell_type": "code",
   "execution_count": 13,
   "id": "5cb5f5fc-8864-4eb1-a114-f69a806e0bc9",
   "metadata": {},
   "outputs": [],
   "source": [
    "# Convertir variables categóricas en formato adecuado\n",
    "df_clean[\"position\"] = df_clean[\"position\"].astype(str)\n",
    "df_clean[\"grade\"] = df_clean[\"grade\"].astype(str)\n",
    "df_clean[\"regime\"] = df_clean[\"regime\"].astype(str)\n"
   ]
  },
  {
   "cell_type": "code",
   "execution_count": 14,
   "id": "0304d774-e8ab-4c37-bea4-a5e5b6c67dfa",
   "metadata": {},
   "outputs": [],
   "source": [
    "# 📌 3. Definir el modelo lineal mixto en pymer4\n",
    "modelo_base = Lmer(\"salary ~ grade + regime + (1 | position)\", data=df_clean)\n",
    "\n",
    "modelo = Lmer(\"salary ~ grade + regime + (1 + grade | position)\", data = df_clean)\n"
   ]
  },
  {
   "cell_type": "code",
   "execution_count": 15,
   "id": "12cce1d2-3e8a-4a9c-b912-ed62bb10c8e6",
   "metadata": {},
   "outputs": [
    {
     "name": "stdout",
     "output_type": "stream",
     "text": [
      "Linear mixed model fit by REML [’lmerMod’]\n",
      "Formula: salary~grade+regime+(1|position)\n",
      "\n",
      "Family: gaussian\t Inference: parametric\n",
      "\n",
      "Number of observations: 93538\t Groups: {'position': 1296.0}\n",
      "\n",
      "Log-likelihood: -499592.823 \t AIC: 999435.645\n",
      "\n",
      "Random effects:\n",
      "\n",
      "                 Name        Var      Std\n",
      "position  (Intercept)  14598.280  120.823\n",
      "Residual                2409.548   49.087\n",
      "\n",
      "No random effect correlations specified\n",
      "\n",
      "Fixed effects:\n",
      "\n",
      "✅ Modelo ajustado correctamente\n"
     ]
    },
    {
     "name": "stderr",
     "output_type": "stream",
     "text": [
      "/opt/anaconda3/lib/python3.12/site-packages/pymer4/models/Lmer.py:733: FutureWarning: DataFrame.applymap has been deprecated. Use DataFrame.map instead.\n",
      "  ran_vars = ran_vars.applymap(\n"
     ]
    }
   ],
   "source": [
    "# Ajustar el modelo con verificación\n",
    "try:\n",
    "    resultado_base = modelo_base.fit()\n",
    "    print(\"✅ Modelo ajustado correctamente\")\n",
    "except Exception as e:\n",
    "    print(f\"❌ Error al ajustar el modelo: {e}\")\n",
    "    exit()\n"
   ]
  },
  {
   "cell_type": "code",
   "execution_count": 16,
   "id": "db9a1a4c-313c-430d-a7fa-1b4e67bfc7d3",
   "metadata": {},
   "outputs": [
    {
     "data": {
      "text/html": [
       "<div>\n",
       "<style scoped>\n",
       "    .dataframe tbody tr th:only-of-type {\n",
       "        vertical-align: middle;\n",
       "    }\n",
       "\n",
       "    .dataframe tbody tr th {\n",
       "        vertical-align: top;\n",
       "    }\n",
       "\n",
       "    .dataframe thead th {\n",
       "        text-align: right;\n",
       "    }\n",
       "</style>\n",
       "<table border=\"1\" class=\"dataframe\">\n",
       "  <thead>\n",
       "    <tr style=\"text-align: right;\">\n",
       "      <th></th>\n",
       "      <th>Estimate</th>\n",
       "      <th>2.5_ci</th>\n",
       "      <th>97.5_ci</th>\n",
       "      <th>SE</th>\n",
       "      <th>DF</th>\n",
       "      <th>T-stat</th>\n",
       "      <th>P-val</th>\n",
       "      <th>Sig</th>\n",
       "    </tr>\n",
       "  </thead>\n",
       "  <tbody>\n",
       "    <tr>\n",
       "      <th>(Intercept)</th>\n",
       "      <td>244.172</td>\n",
       "      <td>198.204</td>\n",
       "      <td>290.139</td>\n",
       "      <td>23.453</td>\n",
       "      <td>92582.145</td>\n",
       "      <td>10.411</td>\n",
       "      <td>0.000</td>\n",
       "      <td>***</td>\n",
       "    </tr>\n",
       "    <tr>\n",
       "      <th>grade1</th>\n",
       "      <td>254.989</td>\n",
       "      <td>190.687</td>\n",
       "      <td>319.291</td>\n",
       "      <td>32.808</td>\n",
       "      <td>92289.969</td>\n",
       "      <td>7.772</td>\n",
       "      <td>0.000</td>\n",
       "      <td>***</td>\n",
       "    </tr>\n",
       "    <tr>\n",
       "      <th>grade1 -</th>\n",
       "      <td>379.236</td>\n",
       "      <td>333.776</td>\n",
       "      <td>424.696</td>\n",
       "      <td>23.194</td>\n",
       "      <td>92401.864</td>\n",
       "      <td>16.351</td>\n",
       "      <td>0.000</td>\n",
       "      <td>***</td>\n",
       "    </tr>\n",
       "    <tr>\n",
       "      <th>grade1 J</th>\n",
       "      <td>-365.532</td>\n",
       "      <td>-414.904</td>\n",
       "      <td>-316.159</td>\n",
       "      <td>25.191</td>\n",
       "      <td>92694.950</td>\n",
       "      <td>-14.511</td>\n",
       "      <td>0.000</td>\n",
       "      <td>***</td>\n",
       "    </tr>\n",
       "    <tr>\n",
       "      <th>grade1-</th>\n",
       "      <td>260.243</td>\n",
       "      <td>200.872</td>\n",
       "      <td>319.613</td>\n",
       "      <td>30.292</td>\n",
       "      <td>92327.344</td>\n",
       "      <td>8.591</td>\n",
       "      <td>0.000</td>\n",
       "      <td>***</td>\n",
       "    </tr>\n",
       "    <tr>\n",
       "      <th>...</th>\n",
       "      <td>...</td>\n",
       "      <td>...</td>\n",
       "      <td>...</td>\n",
       "      <td>...</td>\n",
       "      <td>...</td>\n",
       "      <td>...</td>\n",
       "      <td>...</td>\n",
       "      <td>...</td>\n",
       "    </tr>\n",
       "    <tr>\n",
       "      <th>regime3</th>\n",
       "      <td>696.981</td>\n",
       "      <td>669.132</td>\n",
       "      <td>724.831</td>\n",
       "      <td>14.209</td>\n",
       "      <td>38004.182</td>\n",
       "      <td>49.051</td>\n",
       "      <td>0.000</td>\n",
       "      <td>***</td>\n",
       "    </tr>\n",
       "    <tr>\n",
       "      <th>regime4</th>\n",
       "      <td>-63.327</td>\n",
       "      <td>-70.156</td>\n",
       "      <td>-56.497</td>\n",
       "      <td>3.485</td>\n",
       "      <td>92265.112</td>\n",
       "      <td>-18.174</td>\n",
       "      <td>0.000</td>\n",
       "      <td>***</td>\n",
       "    </tr>\n",
       "    <tr>\n",
       "      <th>regimeCT</th>\n",
       "      <td>51.052</td>\n",
       "      <td>12.647</td>\n",
       "      <td>89.457</td>\n",
       "      <td>19.595</td>\n",
       "      <td>92361.805</td>\n",
       "      <td>2.605</td>\n",
       "      <td>0.009</td>\n",
       "      <td>**</td>\n",
       "    </tr>\n",
       "    <tr>\n",
       "      <th>regimeLOEI</th>\n",
       "      <td>846.591</td>\n",
       "      <td>798.965</td>\n",
       "      <td>894.216</td>\n",
       "      <td>24.299</td>\n",
       "      <td>83014.417</td>\n",
       "      <td>34.840</td>\n",
       "      <td>0.000</td>\n",
       "      <td>***</td>\n",
       "    </tr>\n",
       "    <tr>\n",
       "      <th>regimeLOSEP</th>\n",
       "      <td>122.336</td>\n",
       "      <td>84.274</td>\n",
       "      <td>160.398</td>\n",
       "      <td>19.420</td>\n",
       "      <td>92199.965</td>\n",
       "      <td>6.300</td>\n",
       "      <td>0.000</td>\n",
       "      <td>***</td>\n",
       "    </tr>\n",
       "  </tbody>\n",
       "</table>\n",
       "<p>123 rows × 8 columns</p>\n",
       "</div>"
      ],
      "text/plain": [
       "             Estimate   2.5_ci  97.5_ci      SE         DF  T-stat  P-val  Sig\n",
       "(Intercept)   244.172  198.204  290.139  23.453  92582.145  10.411  0.000  ***\n",
       "grade1        254.989  190.687  319.291  32.808  92289.969   7.772  0.000  ***\n",
       "grade1 -      379.236  333.776  424.696  23.194  92401.864  16.351  0.000  ***\n",
       "grade1 J     -365.532 -414.904 -316.159  25.191  92694.950 -14.511  0.000  ***\n",
       "grade1-       260.243  200.872  319.613  30.292  92327.344   8.591  0.000  ***\n",
       "...               ...      ...      ...     ...        ...     ...    ...  ...\n",
       "regime3       696.981  669.132  724.831  14.209  38004.182  49.051  0.000  ***\n",
       "regime4       -63.327  -70.156  -56.497   3.485  92265.112 -18.174  0.000  ***\n",
       "regimeCT       51.052   12.647   89.457  19.595  92361.805   2.605  0.009   **\n",
       "regimeLOEI    846.591  798.965  894.216  24.299  83014.417  34.840  0.000  ***\n",
       "regimeLOSEP   122.336   84.274  160.398  19.420  92199.965   6.300  0.000  ***\n",
       "\n",
       "[123 rows x 8 columns]"
      ]
     },
     "execution_count": 16,
     "metadata": {},
     "output_type": "execute_result"
    }
   ],
   "source": [
    "# Mostrar los resultados del modelo\n",
    "resultado_base\n"
   ]
  },
  {
   "cell_type": "code",
   "execution_count": null,
   "id": "10395d83-bb42-4506-b9d3-c29f90e773a6",
   "metadata": {},
   "outputs": [],
   "source": []
  },
  {
   "cell_type": "markdown",
   "id": "f38d0c26-d3d5-4a3d-9c4f-ecedf20c109a",
   "metadata": {},
   "source": [
    "**Interpretar los coeficientes:**  \n",
    "\n",
    "Cada fila del archivo representa un coeficiente del modelo. Para interpretar los coeficientes:\n",
    "- Estimate: Representa el efecto de la variable en la variable objetivo (salary).\n",
    "- P-val: Si es menor a 0.05, el coeficiente es significativo.\n",
    "- 2.5_ci y 97.5_ci: Intervalo de confianza del coeficiente.\n",
    "\n",
    "\n",
    "Para ver qué coeficientes son estadísticamente significativos:"
   ]
  },
  {
   "cell_type": "code",
   "execution_count": 18,
   "id": "875c2ff9-0128-404f-980b-ed1e6b09c8f9",
   "metadata": {},
   "outputs": [
    {
     "data": {
      "text/html": [
       "<div>\n",
       "<style scoped>\n",
       "    .dataframe tbody tr th:only-of-type {\n",
       "        vertical-align: middle;\n",
       "    }\n",
       "\n",
       "    .dataframe tbody tr th {\n",
       "        vertical-align: top;\n",
       "    }\n",
       "\n",
       "    .dataframe thead th {\n",
       "        text-align: right;\n",
       "    }\n",
       "</style>\n",
       "<table border=\"1\" class=\"dataframe\">\n",
       "  <thead>\n",
       "    <tr style=\"text-align: right;\">\n",
       "      <th></th>\n",
       "      <th>Estimate</th>\n",
       "      <th>2.5_ci</th>\n",
       "      <th>97.5_ci</th>\n",
       "      <th>SE</th>\n",
       "      <th>DF</th>\n",
       "      <th>T-stat</th>\n",
       "      <th>P-val</th>\n",
       "      <th>Sig</th>\n",
       "    </tr>\n",
       "  </thead>\n",
       "  <tbody>\n",
       "    <tr>\n",
       "      <th>(Intercept)</th>\n",
       "      <td>244.172</td>\n",
       "      <td>198.204</td>\n",
       "      <td>290.139</td>\n",
       "      <td>23.453</td>\n",
       "      <td>92582.145</td>\n",
       "      <td>10.411</td>\n",
       "      <td>0.000</td>\n",
       "      <td>***</td>\n",
       "    </tr>\n",
       "    <tr>\n",
       "      <th>grade1</th>\n",
       "      <td>254.989</td>\n",
       "      <td>190.687</td>\n",
       "      <td>319.291</td>\n",
       "      <td>32.808</td>\n",
       "      <td>92289.969</td>\n",
       "      <td>7.772</td>\n",
       "      <td>0.000</td>\n",
       "      <td>***</td>\n",
       "    </tr>\n",
       "    <tr>\n",
       "      <th>grade1 -</th>\n",
       "      <td>379.236</td>\n",
       "      <td>333.776</td>\n",
       "      <td>424.696</td>\n",
       "      <td>23.194</td>\n",
       "      <td>92401.864</td>\n",
       "      <td>16.351</td>\n",
       "      <td>0.000</td>\n",
       "      <td>***</td>\n",
       "    </tr>\n",
       "    <tr>\n",
       "      <th>grade1 J</th>\n",
       "      <td>-365.532</td>\n",
       "      <td>-414.904</td>\n",
       "      <td>-316.159</td>\n",
       "      <td>25.191</td>\n",
       "      <td>92694.950</td>\n",
       "      <td>-14.511</td>\n",
       "      <td>0.000</td>\n",
       "      <td>***</td>\n",
       "    </tr>\n",
       "    <tr>\n",
       "      <th>grade1-</th>\n",
       "      <td>260.243</td>\n",
       "      <td>200.872</td>\n",
       "      <td>319.613</td>\n",
       "      <td>30.292</td>\n",
       "      <td>92327.344</td>\n",
       "      <td>8.591</td>\n",
       "      <td>0.000</td>\n",
       "      <td>***</td>\n",
       "    </tr>\n",
       "    <tr>\n",
       "      <th>...</th>\n",
       "      <td>...</td>\n",
       "      <td>...</td>\n",
       "      <td>...</td>\n",
       "      <td>...</td>\n",
       "      <td>...</td>\n",
       "      <td>...</td>\n",
       "      <td>...</td>\n",
       "      <td>...</td>\n",
       "    </tr>\n",
       "    <tr>\n",
       "      <th>regime3</th>\n",
       "      <td>696.981</td>\n",
       "      <td>669.132</td>\n",
       "      <td>724.831</td>\n",
       "      <td>14.209</td>\n",
       "      <td>38004.182</td>\n",
       "      <td>49.051</td>\n",
       "      <td>0.000</td>\n",
       "      <td>***</td>\n",
       "    </tr>\n",
       "    <tr>\n",
       "      <th>regime4</th>\n",
       "      <td>-63.327</td>\n",
       "      <td>-70.156</td>\n",
       "      <td>-56.497</td>\n",
       "      <td>3.485</td>\n",
       "      <td>92265.112</td>\n",
       "      <td>-18.174</td>\n",
       "      <td>0.000</td>\n",
       "      <td>***</td>\n",
       "    </tr>\n",
       "    <tr>\n",
       "      <th>regimeCT</th>\n",
       "      <td>51.052</td>\n",
       "      <td>12.647</td>\n",
       "      <td>89.457</td>\n",
       "      <td>19.595</td>\n",
       "      <td>92361.805</td>\n",
       "      <td>2.605</td>\n",
       "      <td>0.009</td>\n",
       "      <td>**</td>\n",
       "    </tr>\n",
       "    <tr>\n",
       "      <th>regimeLOEI</th>\n",
       "      <td>846.591</td>\n",
       "      <td>798.965</td>\n",
       "      <td>894.216</td>\n",
       "      <td>24.299</td>\n",
       "      <td>83014.417</td>\n",
       "      <td>34.840</td>\n",
       "      <td>0.000</td>\n",
       "      <td>***</td>\n",
       "    </tr>\n",
       "    <tr>\n",
       "      <th>regimeLOSEP</th>\n",
       "      <td>122.336</td>\n",
       "      <td>84.274</td>\n",
       "      <td>160.398</td>\n",
       "      <td>19.420</td>\n",
       "      <td>92199.965</td>\n",
       "      <td>6.300</td>\n",
       "      <td>0.000</td>\n",
       "      <td>***</td>\n",
       "    </tr>\n",
       "  </tbody>\n",
       "</table>\n",
       "<p>120 rows × 8 columns</p>\n",
       "</div>"
      ],
      "text/plain": [
       "             Estimate   2.5_ci  97.5_ci      SE         DF  T-stat  P-val  Sig\n",
       "(Intercept)   244.172  198.204  290.139  23.453  92582.145  10.411  0.000  ***\n",
       "grade1        254.989  190.687  319.291  32.808  92289.969   7.772  0.000  ***\n",
       "grade1 -      379.236  333.776  424.696  23.194  92401.864  16.351  0.000  ***\n",
       "grade1 J     -365.532 -414.904 -316.159  25.191  92694.950 -14.511  0.000  ***\n",
       "grade1-       260.243  200.872  319.613  30.292  92327.344   8.591  0.000  ***\n",
       "...               ...      ...      ...     ...        ...     ...    ...  ...\n",
       "regime3       696.981  669.132  724.831  14.209  38004.182  49.051  0.000  ***\n",
       "regime4       -63.327  -70.156  -56.497   3.485  92265.112 -18.174  0.000  ***\n",
       "regimeCT       51.052   12.647   89.457  19.595  92361.805   2.605  0.009   **\n",
       "regimeLOEI    846.591  798.965  894.216  24.299  83014.417  34.840  0.000  ***\n",
       "regimeLOSEP   122.336   84.274  160.398  19.420  92199.965   6.300  0.000  ***\n",
       "\n",
       "[120 rows x 8 columns]"
      ]
     },
     "execution_count": 18,
     "metadata": {},
     "output_type": "execute_result"
    }
   ],
   "source": [
    "df_significativos = resultado_base[resultado_base[\"P-val\"] < 0.05]\n",
    "df_significativos\n"
   ]
  },
  {
   "cell_type": "code",
   "execution_count": null,
   "id": "bfeee2f5-3442-4807-9ba8-8681233fbee0",
   "metadata": {},
   "outputs": [],
   "source": []
  },
  {
   "cell_type": "markdown",
   "id": "c9854893-b66b-41a9-a0cf-6680f6c3eb2d",
   "metadata": {},
   "source": [
    "**Visualizar el impacto de las variables**  \n",
    "Si quieres graficar los coeficientes fijos y su intervalo de confianza:"
   ]
  },
  {
   "cell_type": "code",
   "execution_count": 20,
   "id": "cea81cce-4a09-4392-8e62-73b4c4d150c6",
   "metadata": {},
   "outputs": [
    {
     "data": {
      "image/png": "[encoded data removed]",
      "text/plain": [
       "<Figure size 1000x600 with 1 Axes>"
      ]
     },
     "metadata": {},
     "output_type": "display_data"
    }
   ],
   "source": [
    "plt.figure(figsize=(10, 6))\n",
    "plt.errorbar(resultado_base.index, resultado_base[\"Estimate\"], \n",
    "             yerr=[resultado_base[\"Estimate\"] - resultado_base[\"2.5_ci\"], \n",
    "                   resultado_base[\"97.5_ci\"] - resultado_base[\"Estimate\"]],\n",
    "             fmt = 'o', capsize = 5)\n",
    "\n",
    "plt.xlabel(\"Coeficientes\")\n",
    "plt.ylabel(\"Estimación\")\n",
    "plt.title(\"Coeficientes Fijos del Modelo con Intervalos de Confianza\")\n",
    "plt.xticks(rotation = 90)\n",
    "plt.grid()\n",
    "plt.show()\n"
   ]
  },
  {
   "cell_type": "code",
   "execution_count": null,
   "id": "325af97c-b096-4c55-8072-b4f9af223fc6",
   "metadata": {},
   "outputs": [],
   "source": []
  },
  {
   "cell_type": "markdown",
   "id": "d9d5a1ff-6d6a-4d1a-ba65-048b13954fa9",
   "metadata": {},
   "source": [
    "## Resumen del Modelo\n",
    "\n",
    "El modelo tiene la siguiente estructura:\n",
    "\n",
    "$ salary = 𝛽_0 + 𝛽_1(grade) + 𝛽_2(regime) + 𝑢_{position} + 𝜖 $\n",
    "\n",
    "\n",
    "Donde:\n",
    "- Intercepto (β₀): Representa el salario base promedio sin considerar efectos fijos.\n",
    "- Efectos fijos (β₁, β₂): Capturan la influencia de grade (nivel jerárquico) y regime (tipo de contrato).\n",
    "- Efectos aleatorios (u_{\\text{position}}): Capturan la variabilidad del salario entre diferentes posiciones.\n",
    "- Residual (ε): Variabilidad no explicada.\n",
    "\n"
   ]
  },
  {
   "cell_type": "markdown",
   "id": "0858526a-0ddc-41d3-af1d-c1eccbc2646e",
   "metadata": {},
   "source": [
    "## 🔍 Interpretación de Resultados\n",
    "\n",
    "### 📊 **Resumen de efectos aleatorios**\n",
    "\n",
    "**Random Effects (Efectos Aleatorios por Posición)**\n",
    "- Var(position Intercept) = 14,598.280:\n",
    "   - Indica que la variabilidad del salario entre posiciones institucionales es alta.\n",
    "   - Un alto valor significa que las posiciones influyen significativamente en la remuneración.\n",
    "\n",
    "- Residual variance = 2,409.548:\n",
    "   - Representa la variabilidad del salario dentro de cada posición.\n",
    "   - Comparado con la varianza del intercepto, muestra que la mayor parte de la variabilidad proviene de la posición.\n",
    "\n",
    "\n",
    "📌 **Conclusión:**\n",
    "- La variabilidad del salario entre posiciones (14,598.280) es mucho mayor que la variabilidad dentro de una misma posición (2,409.548).\n",
    "- Esto indica que el cargo en el municipio es un fuerte determinante del salario."
   ]
  },
  {
   "cell_type": "markdown",
   "id": "09d9ae07-bb69-430a-9764-4e4e8caf0a65",
   "metadata": {},
   "source": [
    "## 📊 Efectos fijos\n",
    "\n",
    "**Intercepto (β₀ = 244.172)**\n",
    "- Interpretación:\n",
    "   - El salario promedio base (sin efectos de grade ni regime) es 244.17.\n",
    "   - Es el punto de referencia cuando todas las demás variables son cero.\n",
    "\n",
    "\n",
    "**Grade (Nivel Jerárquico)**\n",
    "- Diferentes niveles (grade1, grade-, grade1 J, etc.) tienen coeficientes positivos o negativos.\n",
    "- Ejemplo: grade1 tiene un coeficiente de 254.989:\n",
    "   - Significa que las personas en este nivel ganan en promedio 254.98 unidades más que el nivel de referencia.\n",
    "- Valores negativos (grade1 J = -365.532):\n",
    "   - Indican niveles donde el salario es más bajo en comparación con la referencia.\n",
    "\n",
    "\n",
    "📌 **Conclusión:**\n",
    "- Algunos niveles jerárquicos aumentan el salario, mientras que otros lo reducen.\n",
    "- La interpretación exacta depende del nivel de referencia (que no se muestra explícitamente en la tabla)."
   ]
  },
  {
   "cell_type": "markdown",
   "id": "c2bac32f-fd29-49b6-b20c-bfefb4d1652f",
   "metadata": {},
   "source": [
    "## Regime (Tipo de contrato)\n",
    "\n",
    "- Diferentes tipos de contratos (regime3, regimeCT, regimeLOSEP, etc.).\n",
    "- Ejemplo: regimeLOEI tiene un coeficiente de 846.591:\n",
    "   - Significa que los empleados con este régimen ganan 846.59 más en promedio comparado con el régimen de referencia.\n",
    "regimeCT = 51.052:\n",
    "- El impacto del régimen CT en el salario es menor que en otros regímenes.\n",
    "\n",
    "📌 **Conclusión:**\n",
    "- El régimen contractual tiene un impacto fuerte en los salarios.\n",
    "- Algunos regímenes aumentan el salario significativamente más que otros."
   ]
  },
  {
   "cell_type": "code",
   "execution_count": null,
   "id": "fe7267a7-c0bd-4328-a1eb-354f613c9bb6",
   "metadata": {},
   "outputs": [],
   "source": []
  },
  {
   "cell_type": "markdown",
   "id": "a4f6387f-df40-43ef-a49c-9a3f5f9f47dc",
   "metadata": {},
   "source": [
    "## 📌 ¿Cómo interpretar el modelo para el negocio?\n",
    "\n",
    "- El cargo institucional (position) explica una gran parte de la variabilidad salarial.\n",
    "- El nivel jerárquico (grade) también tiene un impacto significativo, aunque varía dependiendo del nivel.\n",
    "- El tipo de contrato (regime) es un factor determinante en el salario, con algunos regímenes pagando más que otros.\n",
    "  "
   ]
  },
  {
   "cell_type": "code",
   "execution_count": null,
   "id": "d4f3e167-abd6-4a5a-b343-cf8e4783a079",
   "metadata": {},
   "outputs": [],
   "source": []
  },
  {
   "cell_type": "code",
   "execution_count": 26,
   "id": "556e5e5a-191e-4fd8-8005-36048f8346ca",
   "metadata": {},
   "outputs": [],
   "source": [
    "# 📌 4. Crear la carpeta de salida si no existe\n",
    "output_folder = \"output_data\"\n",
    "if not os.path.exists(output_folder):\n",
    "    os.makedirs(output_folder)\n",
    "    print(f\"📂 Carpeta creada: {output_folder}\")\n"
   ]
  },
  {
   "cell_type": "code",
   "execution_count": 27,
   "id": "4fd2f219-90fc-425c-898f-f3e84340c011",
   "metadata": {},
   "outputs": [],
   "source": [
    "# 📌 5. Exportar efectos aleatorios (impacto de cada posición en el salario)\n",
    "if \"ranef_dict\" in resultado_base.__dict__:\n",
    "    random_effects = resultado_base.ranef\n",
    "    print(\"✅ Se encontraron efectos aleatorios en el modelo\")\n",
    "    \n",
    "    # Extraer los efectos aleatorios del intercepto\n",
    "    random_effects_intercept = random_effects[\"(Intercept)\"]\n",
    "    \n",
    "    # Crear un DataFrame con los efectos aleatorios\n",
    "    df_random_effects = pd.DataFrame({\n",
    "        \"position\": random_effects_intercept.index,\n",
    "        \"effect\": random_effects_intercept.values\n",
    "    })\n",
    "    \n",
    "    # Exportar efectos aleatorios a CSV\n",
    "    effects_file = os.path.join(output_folder, \"effects_random_position.csv\")\n",
    "    df_random_effects.to_csv(effects_file, index = False)\n",
    "    print(f\"✅ Efectos aleatorios exportados a {effects_file}\")\n"
   ]
  },
  {
   "cell_type": "code",
   "execution_count": 28,
   "id": "0332657e-829d-4bed-bb44-1fe294a2aa39",
   "metadata": {},
   "outputs": [
    {
     "name": "stdout",
     "output_type": "stream",
     "text": [
      "✅ Coeficientes del modelo exportados.\n"
     ]
    }
   ],
   "source": [
    "# 📌 6. Exportar coeficientes fijos del modelo (impacto de grade y regime)\n",
    "resultado_base.to_csv(os.path.join(output_folder, \"Resultado_Modelo.csv\"), index = False)\n",
    "print(f\"✅ Coeficientes del modelo exportados.\")\n"
   ]
  },
  {
   "cell_type": "code",
   "execution_count": null,
   "id": "f2644b92-3ccf-4586-a233-8658ee7b1fe5",
   "metadata": {},
   "outputs": [],
   "source": []
  },
  {
   "cell_type": "code",
   "execution_count": 29,
   "id": "fd5a389e-d6e5-4a7d-92c7-ac7c01226c07",
   "metadata": {},
   "outputs": [
    {
     "name": "stdout",
     "output_type": "stream",
     "text": [
      "Columnas del modelo: Index(['position', 'grade', 'regime', 'salary', 'residuals', 'fits'], dtype='object')\n",
      "Columnas del DataFrame: Index(['position', 'grade', 'regime', 'salary'], dtype='object')\n"
     ]
    }
   ],
   "source": [
    "print(\"Columnas del modelo:\", modelo_base.data.columns)\n",
    "print(\"Columnas del DataFrame:\", df_clean.columns)\n"
   ]
  },
  {
   "cell_type": "code",
   "execution_count": null,
   "id": "fb59707d-a054-4202-984b-42c09bf91a6d",
   "metadata": {},
   "outputs": [],
   "source": []
  },
  {
   "cell_type": "code",
   "execution_count": 31,
   "id": "756d1218-c077-4ff4-9b0c-60cf4172a97b",
   "metadata": {},
   "outputs": [
    {
     "name": "stdout",
     "output_type": "stream",
     "text": [
      "✅ Datos originales con predicciones exportados a output_data/original_data_with_predictions.csv\n"
     ]
    }
   ],
   "source": [
    "# 📌 7. Exportar datos originales con predicciones\n",
    "df_clean[\"predicted_salary\"] = modelo_base.predict(df_clean, skip_data_checks = True, verify_predictions = False)\n",
    "\n",
    "original_data_file = os.path.join(output_folder, \"original_data_with_predictions.csv\")\n",
    "df_clean.to_csv(original_data_file, index = False)\n",
    "print(f\"✅ Datos originales con predicciones exportados a {original_data_file}\")\n"
   ]
  },
  {
   "cell_type": "code",
   "execution_count": null,
   "id": "6e188661-0e5a-44ca-b7c0-5a4fcc909288",
   "metadata": {},
   "outputs": [],
   "source": []
  }
 ],
 "metadata": {
  "kernelspec": {
   "display_name": "Python [conda env:base] *",
   "language": "python",
   "name": "conda-base-py"
  },
  "language_info": {
   "codemirror_mode": {
    "name": "ipython",
    "version": 3
   },
   "file_extension": ".py",
   "mimetype": "text/x-python",
   "name": "python",
   "nbconvert_exporter": "python",
   "pygments_lexer": "ipython3",
   "version": "3.12.7"
  }
 },
 "nbformat": 4,
 "nbformat_minor": 5
}
