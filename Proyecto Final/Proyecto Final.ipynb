{
 "cells": [
  {
   "cell_type": "markdown",
   "id": "7ebab1d3-2533-4438-9fe5-3167f0fedf31",
   "metadata": {},
   "source": [
    "# **Proyecto Final.**"
   ]
  },
  {
   "cell_type": "markdown",
   "id": "329e1c66-e7e5-4427-868c-67cb879a9a54",
   "metadata": {},
   "source": [
    "## Problema de Negocio \n",
    "Una institución financiera busca fortalecer sus estrategias de prevención de lavado de dinero (PLD) mediante el desarrollo de un modelo que clasifique a sus clientes en niveles de riesgo: bajo, medio y alto. Esta clasificación permitirá priorizar recursos de auditoría e investigación, así como cumplir con los requerimientos normativos de forma más eficiente.\n"
   ]
  },
  {
   "cell_type": "markdown",
   "id": "21130017-4256-47cb-8273-a9fbdada1bda",
   "metadata": {},
   "source": [
    "## Objetivo del proyecto\n",
    "\n",
    "Aplicar técnicas de reducción de dimensionalidad (PCA) y clustering (K-Means) para clasificar a los clientes en tres grupos de riesgo: bajo, medio y alto. Este modelo permitirá al banco automatizar la identificación de posibles casos sospechosos, reducir falsos positivos y optimizar el monitoreo operativo.\n"
   ]
  },
  {
   "cell_type": "markdown",
   "id": "076d33cf-4a31-416e-a412-f631cd7725b8",
   "metadata": {},
   "source": [
    "## Pipeline Analítico\n",
    "\n",
    "1. **Recolección y Preparación de Datos**\n",
    "Datos de transacciones históricas por cliente (monto, frecuencia, tipo, canal, país, etc.).  \n",
    "Variables adicionales: antigüedad del cliente, ingresos declarados, productos contratados, etc.  \n",
    "Limpieza de datos: valores nulos, outliers, escalado (normalización o estandarización).  \n",
    "\n",
    "2. **Reducción de Dimensionalidad con PCA**\n",
    "Estándarización de las variables numéricas.  \n",
    "Aplicación de PCA para entender las dimensiones principales (2D o 3D para visualización).  \n",
    "Análisis de varianza explicada para determinar cuántos componentes conservar.  \n",
    "\n",
    "3. **Segmentación con K-Means**\n",
    "Determinación del número óptimo de clusters (k=3) usando: Método del codo (Elbow) o Silhouette Score.  \n",
    "Aplicación de K-Means con k=3 para agrupar clientes.  \n",
    "Asignación de etiquetas: Bajo, Medio, Alto (basado en media de montos o anomalías dentro del cluster).  \n",
    "\n",
    "4. **Análisis y Etiquetado de Clusters**\n",
    "Perfilamiento de cada cluster: ¿qué lo caracteriza?   \n",
    "Validación del modelo con expertos de negocio / reglas heurísticas.\n",
    "\n"
   ]
  },
  {
   "cell_type": "code",
   "execution_count": null,
   "id": "df304bf6-4015-4e6a-adca-d47ccc819473",
   "metadata": {},
   "outputs": [],
   "source": []
  },
  {
   "cell_type": "code",
   "execution_count": null,
   "id": "068f2861-5ef9-426a-9159-1d3dbfa4ee23",
   "metadata": {},
   "outputs": [],
   "source": []
  },
  {
   "cell_type": "code",
   "execution_count": null,
   "id": "a7bb294e-fb7d-461b-b058-6515235e0e4f",
   "metadata": {},
   "outputs": [],
   "source": []
  },
  {
   "cell_type": "code",
   "execution_count": null,
   "id": "282c9f29-e2b1-4dbe-86a4-a5f65618d3bc",
   "metadata": {},
   "outputs": [],
   "source": []
  },
  {
   "cell_type": "code",
   "execution_count": null,
   "id": "eb8e32cc-d915-4eb7-a529-a191a5c5efa1",
   "metadata": {},
   "outputs": [],
   "source": []
  },
  {
   "cell_type": "code",
   "execution_count": null,
   "id": "d1b2a860-4613-42ab-9427-75b5ea63044a",
   "metadata": {},
   "outputs": [],
   "source": []
  },
  {
   "cell_type": "code",
   "execution_count": null,
   "id": "2f469ee6-3067-48d3-883f-f94ce69a18e6",
   "metadata": {},
   "outputs": [],
   "source": []
  },
  {
   "cell_type": "code",
   "execution_count": null,
   "id": "4d4e5e93-d4bc-4670-a898-f726e1a17e67",
   "metadata": {},
   "outputs": [],
   "source": []
  },
  {
   "cell_type": "code",
   "execution_count": null,
   "id": "6ffde21f-c9a2-4f90-b319-7eae4ea37f6c",
   "metadata": {},
   "outputs": [],
   "source": []
  },
  {
   "cell_type": "code",
   "execution_count": null,
   "id": "dc9578b8-5212-4b0e-93a2-9fbf15c36af7",
   "metadata": {},
   "outputs": [],
   "source": []
  }
 ],
 "metadata": {
  "kernelspec": {
   "display_name": "Python [conda env:base] *",
   "language": "python",
   "name": "conda-base-py"
  },
  "language_info": {
   "codemirror_mode": {
    "name": "ipython",
    "version": 3
   },
   "file_extension": ".py",
   "mimetype": "text/x-python",
   "name": "python",
   "nbconvert_exporter": "python",
   "pygments_lexer": "ipython3",
   "version": "3.12.7"
  }
 },
 "nbformat": 4,
 "nbformat_minor": 5
}
